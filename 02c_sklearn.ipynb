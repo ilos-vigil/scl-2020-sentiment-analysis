{
 "cells": [
  {
   "cell_type": "markdown",
   "execution_count": null,
   "metadata": {},
   "source": [
    "# Changelog\n",
    "\n",
    "### Version 18\n",
    "\n",
    "* Use additional dataset from https://www.kaggle.com/shymammoth/shopee-reviews\n",
    "* No longer modify y_train\n",
    "\n",
    "### Version 14\n",
    "\n",
    "* Replace Bag of Words (BoW) with TF-IDF\n",
    "\n",
    "### Version 13\n",
    "\n",
    "* Use NaiveBayes\n",
    "* Use Bigram\n",
    "* Change all y_train rating 4->5\n",
    "\n",
    "### Version 12\n",
    "\n",
    "* Replace TF-IDF with Bag of Words (BoW)\n",
    "\n",
    "### Version 11\n",
    "\n",
    "* Change replace char & delete remove char\n",
    "* Set `min_df=20` for TF-IDF\n",
    "* Use SVM (with GridSearchCV)\n",
    "* Enable replace/remove char\n",
    "\n",
    "### Version 6\n",
    "\n",
    "* Add Confusion Matrix\n",
    "* Set `min_df=5` for TF-IDF\n",
    "* Import library used to set SEED\n",
    "* Lemmatization for EN & Stemming for ID\n",
    "* Disable replace/remove char\n",
    "* Revert RandomForestClassifier parameter\n",
    "\n",
    "### Version 5\n",
    "\n",
    "* Change RandomForestClassifier parameter\n",
    "* Set SEED\n",
    "\n",
    "### Version 4\n",
    "\n",
    "* Use RandomForestClassifier\n",
    "* `min_df=20` for TF-IDF\n",
    "* Change generic model function position\n",
    "\n",
    "### Version 3\n",
    "\n",
    "* Fix submission.csv column name\n",
    "\n",
    "### Version 2\n",
    "\n",
    "* Use MultinomialNB\n",
    "\n",
    "### Version 1\n",
    "\n",
    "* Initialize code"
   ]
  },
  {
   "cell_type": "markdown",
   "execution_count": null,
   "metadata": {},
   "source": [
    "# Library"
   ]
  },
  {
   "cell_type": "code",
   "execution_count": 1,
   "metadata": {},
   "outputs": [
    {
     "name": "stdout",
     "output_type": "stream",
     "text": [
      "Collecting pyenchant\r\n",
      "  Downloading pyenchant-3.1.1-py3-none-any.whl (55 kB)\r\n",
      "\u001b[K     |████████████████████████████████| 55 kB 1.6 MB/s \r\n",
      "\u001b[?25hCollecting pysastrawi\r\n",
      "  Downloading PySastrawi-1.2.0-py2.py3-none-any.whl (210 kB)\r\n",
      "\u001b[K     |████████████████████████████████| 210 kB 14.3 MB/s \r\n",
      "\u001b[?25hInstalling collected packages: pyenchant, pysastrawi\r\n",
      "Successfully installed pyenchant-3.1.1 pysastrawi-1.2.0\r\n",
      "\u001b[33mWARNING: You are using pip version 20.1.1; however, version 20.2 is available.\r\n",
      "You should consider upgrading via the '/opt/conda/bin/python3.7 -m pip install --upgrade pip' command.\u001b[0m\r\n"
     ]
    }
   ],
   "source": [
    "!pip install pyenchant pysastrawi"
   ]
  },
  {
   "cell_type": "code",
   "execution_count": 2,
   "metadata": {},
   "outputs": [
    {
     "name": "stdout",
     "output_type": "stream",
     "text": [
      "--2020-07-30 07:26:21--  http://archive.ubuntu.com/ubuntu/pool/main/libr/libreoffice-dictionaries/hunspell-id_6.4.3-1_all.deb\r\n",
      "Resolving archive.ubuntu.com (archive.ubuntu.com)... 91.189.88.152, 91.189.88.142, 2001:67c:1562::18, ...\r\n",
      "Connecting to archive.ubuntu.com (archive.ubuntu.com)|91.189.88.152|:80... connected.\r\n",
      "HTTP request sent, awaiting response... 200 OK\r\n",
      "Length: 143836 (140K) [application/x-debian-package]\r\n",
      "Saving to: ‘hunspell-id_6.4.3-1_all.deb’\r\n",
      "\r\n",
      "hunspell-id_6.4.3-1 100%[===================>] 140.46K   249KB/s    in 0.6s    \r\n",
      "\r\n",
      "2020-07-30 07:26:22 (249 KB/s) - ‘hunspell-id_6.4.3-1_all.deb’ saved [143836/143836]\r\n",
      "\r\n",
      "Selecting previously unselected package hunspell-id.\r\n",
      "(Reading database ... 107461 files and directories currently installed.)\r\n",
      "Preparing to unpack hunspell-id_6.4.3-1_all.deb ...\r\n",
      "Unpacking hunspell-id (1:6.4.3-1) ...\r\n",
      "Setting up hunspell-id (1:6.4.3-1) ...\r\n"
     ]
    }
   ],
   "source": [
    "!wget http://archive.ubuntu.com/ubuntu/pool/main/libr/libreoffice-dictionaries/hunspell-id_6.4.3-1_all.deb\n",
    "!dpkg -i hunspell-id_6.4.3-1_all.deb"
   ]
  },
  {
   "cell_type": "code",
   "execution_count": 3,
   "metadata": {},
   "outputs": [
    {
     "name": "stdout",
     "output_type": "stream",
     "text": [
      "Hit:1 http://archive.ubuntu.com/ubuntu bionic InRelease\r\n",
      "Get:2 http://security.ubuntu.com/ubuntu bionic-security InRelease [88.7 kB]\r\n",
      "Get:3 http://archive.ubuntu.com/ubuntu bionic-updates InRelease [88.7 kB]\r\n",
      "Get:4 http://packages.cloud.google.com/apt gcsfuse-bionic InRelease [3724 B]\r\n",
      "Get:5 http://packages.cloud.google.com/apt cloud-sdk-bionic InRelease [6384 B]\r\n",
      "Get:6 http://archive.ubuntu.com/ubuntu bionic-backports InRelease [74.6 kB]\r\n",
      "Get:7 http://security.ubuntu.com/ubuntu bionic-security/universe amd64 Packages [880 kB]\r\n",
      "Get:8 http://packages.cloud.google.com/apt cloud-sdk InRelease [6349 B]\r\n",
      "Get:9 http://archive.ubuntu.com/ubuntu bionic-updates/universe amd64 Packages [1413 kB]\r\n",
      "Get:10 http://packages.cloud.google.com/apt cloud-sdk-bionic/main amd64 Packages [132 kB]\r\n",
      "Get:11 http://packages.cloud.google.com/apt cloud-sdk/main amd64 Packages [124 kB]\r\n",
      "Get:12 http://security.ubuntu.com/ubuntu bionic-security/multiverse amd64 Packages [9555 B]\r\n",
      "Get:13 http://security.ubuntu.com/ubuntu bionic-security/restricted amd64 Packages [100 kB]\r\n",
      "Get:14 http://security.ubuntu.com/ubuntu bionic-security/main amd64 Packages [1033 kB]\r\n",
      "Get:15 http://archive.ubuntu.com/ubuntu bionic-updates/multiverse amd64 Packages [13.9 kB]\r\n",
      "Get:16 http://archive.ubuntu.com/ubuntu bionic-updates/main amd64 Packages [1334 kB]\r\n",
      "Get:17 http://archive.ubuntu.com/ubuntu bionic-updates/restricted amd64 Packages [114 kB]\r\n",
      "Get:18 http://archive.ubuntu.com/ubuntu bionic-backports/universe amd64 Packages [8432 B]\r\n",
      "Fetched 5431 kB in 2s (2529 kB/s)\r\n",
      "\r\n",
      "\r\n",
      "\r\n",
      "93 packages can be upgraded. Run 'apt list --upgradable' to see them.\r\n",
      "\r\n",
      "\r\n",
      "\r\n",
      "hunspell-en-us is already the newest version (1:2017.08.24).\r\n",
      "hunspell-en-us set to manually installed.\r\n",
      "libhunspell-1.6-0 is already the newest version (1.6.2-1).\r\n",
      "libhunspell-1.6-0 set to manually installed.\r\n",
      "The following additional packages will be installed:\r\n",
      "  aspell aspell-en libaspell15\r\n",
      "Suggested packages:\r\n",
      "  aspell-doc spellutils libenchant-voikko\r\n",
      "The following NEW packages will be installed:\r\n",
      "  aspell aspell-en enchant hunspell libaspell15 libenchant1c2a\r\n",
      "0 upgraded, 6 newly installed, 0 to remove and 93 not upgraded.\r\n",
      "Need to get 834 kB of archives.\r\n",
      "After this operation, 3485 kB of additional disk space will be used.\r\n",
      "Get:1 http://archive.ubuntu.com/ubuntu bionic-updates/main amd64 libaspell15 amd64 0.60.7~20110707-4ubuntu0.1 [309 kB]\r\n",
      "Get:2 http://archive.ubuntu.com/ubuntu bionic-updates/main amd64 aspell amd64 0.60.7~20110707-4ubuntu0.1 [87.6 kB]\r\n",
      "Get:3 http://archive.ubuntu.com/ubuntu bionic/main amd64 aspell-en all 2017.08.24-0-0.1 [298 kB]\r\n",
      "Get:4 http://archive.ubuntu.com/ubuntu bionic/main amd64 libenchant1c2a amd64 1.6.0-11.1 [64.4 kB]\r\n",
      "Get:5 http://archive.ubuntu.com/ubuntu bionic/main amd64 enchant amd64 1.6.0-11.1 [12.2 kB]\r\n",
      "Get:6 http://archive.ubuntu.com/ubuntu bionic/universe amd64 hunspell amd64 1.6.2-1 [62.5 kB]\r\n",
      "Fetched 834 kB in 1s (644 kB/s)\r\n",
      "debconf: delaying package configuration, since apt-utils is not installed\r\n",
      "\n",
      "\u001b7\u001b[0;23r\u001b8\u001b[1ASelecting previously unselected package libaspell15:amd64.\r\n",
      "(Reading database ... 107466 files and directories currently installed.)\r\n",
      "Preparing to unpack .../0-libaspell15_0.60.7~20110707-4ubuntu0.1_amd64.deb ...\r\n",
      "\u001b7\u001b[24;0f\u001b[42m\u001b[30mProgress: [  0%]\u001b[49m\u001b[39m [..........................................................] \u001b8\u001b7\u001b[24;0f\u001b[42m\u001b[30mProgress: [  3%]\u001b[49m\u001b[39m [#.........................................................] \u001b8Unpacking libaspell15:amd64 (0.60.7~20110707-4ubuntu0.1) ...\r\n",
      "\u001b7\u001b[24;0f\u001b[42m\u001b[30mProgress: [  6%]\u001b[49m\u001b[39m [###.......................................................] \u001b8\u001b7\u001b[24;0f\u001b[42m\u001b[30mProgress: [ 10%]\u001b[49m\u001b[39m [#####.....................................................] \u001b8Selecting previously unselected package aspell.\r\n",
      "Preparing to unpack .../1-aspell_0.60.7~20110707-4ubuntu0.1_amd64.deb ...\r\n",
      "\u001b7\u001b[24;0f\u001b[42m\u001b[30mProgress: [ 13%]\u001b[49m\u001b[39m [#######...................................................] \u001b8Unpacking aspell (0.60.7~20110707-4ubuntu0.1) ...\r\n",
      "\u001b7\u001b[24;0f\u001b[42m\u001b[30mProgress: [ 16%]\u001b[49m\u001b[39m [#########.................................................] \u001b8\u001b7\u001b[24;0f\u001b[42m\u001b[30mProgress: [ 19%]\u001b[49m\u001b[39m [###########...............................................] \u001b8Selecting previously unselected package aspell-en.\r\n",
      "Preparing to unpack .../2-aspell-en_2017.08.24-0-0.1_all.deb ...\r\n",
      "\u001b7\u001b[24;0f\u001b[42m\u001b[30mProgress: [ 23%]\u001b[49m\u001b[39m [#############.............................................] \u001b8Unpacking aspell-en (2017.08.24-0-0.1) ...\r\n",
      "\u001b7\u001b[24;0f\u001b[42m\u001b[30mProgress: [ 26%]\u001b[49m\u001b[39m [##############............................................] \u001b8\u001b7\u001b[24;0f\u001b[42m\u001b[30mProgress: [ 29%]\u001b[49m\u001b[39m [################..........................................] \u001b8Selecting previously unselected package libenchant1c2a:amd64.\r\n",
      "Preparing to unpack .../3-libenchant1c2a_1.6.0-11.1_amd64.deb ...\r\n",
      "\u001b7\u001b[24;0f\u001b[42m\u001b[30mProgress: [ 32%]\u001b[49m\u001b[39m [##################........................................] \u001b8Unpacking libenchant1c2a:amd64 (1.6.0-11.1) ...\r\n",
      "\u001b7\u001b[24;0f\u001b[42m\u001b[30mProgress: [ 35%]\u001b[49m\u001b[39m [####################......................................] \u001b8\u001b7\u001b[24;0f\u001b[42m\u001b[30mProgress: [ 39%]\u001b[49m\u001b[39m [######################....................................] \u001b8Selecting previously unselected package enchant.\r\n",
      "Preparing to unpack .../4-enchant_1.6.0-11.1_amd64.deb ...\r\n",
      "\u001b7\u001b[24;0f\u001b[42m\u001b[30mProgress: [ 42%]\u001b[49m\u001b[39m [########################..................................] \u001b8Unpacking enchant (1.6.0-11.1) ...\r\n",
      "\u001b7\u001b[24;0f\u001b[42m\u001b[30mProgress: [ 45%]\u001b[49m\u001b[39m [##########################................................] \u001b8\u001b7\u001b[24;0f\u001b[42m\u001b[30mProgress: [ 48%]\u001b[49m\u001b[39m [############################..............................] \u001b8Selecting previously unselected package hunspell.\r\n",
      "Preparing to unpack .../5-hunspell_1.6.2-1_amd64.deb ...\r\n",
      "\u001b7\u001b[24;0f\u001b[42m\u001b[30mProgress: [ 52%]\u001b[49m\u001b[39m [#############################.............................] \u001b8Unpacking hunspell (1.6.2-1) ...\r\n",
      "\u001b7\u001b[24;0f\u001b[42m\u001b[30mProgress: [ 55%]\u001b[49m\u001b[39m [###############################...........................] \u001b8\u001b7\u001b[24;0f\u001b[42m\u001b[30mProgress: [ 58%]\u001b[49m\u001b[39m [#################################.........................] \u001b8Setting up libaspell15:amd64 (0.60.7~20110707-4ubuntu0.1) ...\r\n",
      "\u001b7\u001b[24;0f\u001b[42m\u001b[30mProgress: [ 61%]\u001b[49m\u001b[39m [###################################.......................] \u001b8\u001b7\u001b[24;0f\u001b[42m\u001b[30mProgress: [ 65%]\u001b[49m\u001b[39m [#####################################.....................] \u001b8Setting up aspell (0.60.7~20110707-4ubuntu0.1) ...\r\n",
      "\u001b7\u001b[24;0f\u001b[42m\u001b[30mProgress: [ 68%]\u001b[49m\u001b[39m [#######################################...................] \u001b8debconf: unable to initialize frontend: Dialog\r\n",
      "debconf: (No usable dialog-like program is installed, so the dialog based frontend cannot be used. at /usr/share/perl5/Debconf/FrontEnd/Dialog.pm line 76.)\r\n",
      "debconf: falling back to frontend: Readline\r\n",
      "\u001b7\u001b[24;0f\u001b[42m\u001b[30mProgress: [ 71%]\u001b[49m\u001b[39m [#########################################.................] \u001b8Setting up hunspell (1.6.2-1) ...\r\n",
      "\u001b7\u001b[24;0f\u001b[42m\u001b[30mProgress: [ 74%]\u001b[49m\u001b[39m [###########################################...............] \u001b8\u001b7\u001b[24;0f\u001b[42m\u001b[30mProgress: [ 77%]\u001b[49m\u001b[39m [############################################..............] \u001b8Setting up libenchant1c2a:amd64 (1.6.0-11.1) ...\r\n",
      "\u001b7\u001b[24;0f\u001b[42m\u001b[30mProgress: [ 81%]\u001b[49m\u001b[39m [##############################################............] \u001b8\u001b7\u001b[24;0f\u001b[42m\u001b[30mProgress: [ 84%]\u001b[49m\u001b[39m [################################################..........] \u001b8Setting up aspell-en (2017.08.24-0-0.1) ...\r\n",
      "\u001b7\u001b[24;0f\u001b[42m\u001b[30mProgress: [ 87%]\u001b[49m\u001b[39m [##################################################........] \u001b8debconf: unable to initialize frontend: Dialog\r\n",
      "debconf: (No usable dialog-like program is installed, so the dialog based frontend cannot be used. at /usr/share/perl5/Debconf/FrontEnd/Dialog.pm line 76.)\r\n",
      "debconf: falling back to frontend: Readline\r\n",
      "\u001b7\u001b[24;0f\u001b[42m\u001b[30mProgress: [ 90%]\u001b[49m\u001b[39m [####################################################......] \u001b8Setting up enchant (1.6.0-11.1) ...\r\n",
      "\u001b7\u001b[24;0f\u001b[42m\u001b[30mProgress: [ 94%]\u001b[49m\u001b[39m [######################################################....] \u001b8\u001b7\u001b[24;0f\u001b[42m\u001b[30mProgress: [ 97%]\u001b[49m\u001b[39m [########################################################..] \u001b8Processing triggers for libc-bin (2.27-3ubuntu1) ...\r\n",
      "Processing triggers for dictionaries-common (1.27.2) ...\r\n",
      "debconf: unable to initialize frontend: Dialog\r\n",
      "debconf: (No usable dialog-like program is installed, so the dialog based frontend cannot be used. at /usr/share/perl5/Debconf/FrontEnd/Dialog.pm line 76.)\r\n",
      "debconf: falling back to frontend: Readline\r\n",
      "aspell-autobuildhash: processing: en [en-common].\r\n",
      "aspell-autobuildhash: processing: en [en-variant_0].\r\n",
      "aspell-autobuildhash: processing: en [en-variant_1].\r\n",
      "aspell-autobuildhash: processing: en [en-variant_2].\r\n",
      "aspell-autobuildhash: processing: en [en-w_accents-only].\r\n",
      "aspell-autobuildhash: processing: en [en-wo_accents-only].\r\n",
      "aspell-autobuildhash: processing: en [en_AU-variant_0].\r\n",
      "aspell-autobuildhash: processing: en [en_AU-variant_1].\r\n",
      "aspell-autobuildhash: processing: en [en_AU-w_accents-only].\r\n",
      "aspell-autobuildhash: processing: en [en_AU-wo_accents-only].\r\n",
      "aspell-autobuildhash: processing: en [en_CA-variant_0].\r\n",
      "aspell-autobuildhash: processing: en [en_CA-variant_1].\r\n",
      "aspell-autobuildhash: processing: en [en_CA-w_accents-only].\r\n",
      "aspell-autobuildhash: processing: en [en_CA-wo_accents-only].\r\n",
      "aspell-autobuildhash: processing: en [en_GB-ise-w_accents-only].\r\n",
      "aspell-autobuildhash: processing: en [en_GB-ise-wo_accents-only].\r\n",
      "aspell-autobuildhash: processing: en [en_GB-ize-w_accents-only].\r\n",
      "aspell-autobuildhash: processing: en [en_GB-ize-wo_accents-only].\r\n",
      "aspell-autobuildhash: processing: en [en_GB-variant_0].\r\n",
      "aspell-autobuildhash: processing: en [en_GB-variant_1].\r\n",
      "aspell-autobuildhash: processing: en [en_US-w_accents-only].\r\n",
      "aspell-autobuildhash: processing: en [en_US-wo_accents-only].\r\n",
      "\r\n",
      "\u001b7\u001b[0;24r\u001b8\u001b[1A\u001b[J"
     ]
    }
   ],
   "source": [
    "!apt update && apt install -y enchant libenchant1c2a hunspell hunspell-en-us libhunspell-1.6-0"
   ]
  },
  {
   "cell_type": "code",
   "execution_count": 4,
   "metadata": {
    "_cell_guid": "b1076dfc-b9ad-4769-8c92-a6c4dae69d19",
    "_uuid": "8f2839f25d086af736a60e9eeb907d3b93b6e0e5"
   },
   "outputs": [],
   "source": [
    "import re\n",
    "import os\n",
    "import gc\n",
    "import random\n",
    "\n",
    "import numpy as np\n",
    "import pandas as pd\n",
    "import sklearn\n",
    "import matplotlib\n",
    "import matplotlib.pyplot as plt\n",
    "import seaborn as sns\n",
    "import nltk\n",
    "import enchant"
   ]
  },
  {
   "cell_type": "code",
   "execution_count": 5,
   "metadata": {},
   "outputs": [],
   "source": [
    "!pip freeze > requirements.txt"
   ]
  },
  {
   "cell_type": "code",
   "execution_count": 6,
   "metadata": {
    "_cell_guid": "79c7e3d0-c299-4dcb-8224-4455121ee9b0",
    "_uuid": "d629ff2d2480ee46fbb7e2d37f6b5fab8052498a"
   },
   "outputs": [
    {
     "name": "stdout",
     "output_type": "stream",
     "text": [
      "Numpy version: 1.18.5\n",
      "Pandas version: 1.0.3\n",
      "Scikit-Learn version: 0.23.1\n",
      "Matplotlib version: 3.2.1\n",
      "Seaborn version: 0.10.0\n",
      "NLTK version: 3.2.4\n"
     ]
    }
   ],
   "source": [
    "print('Numpy version:', np.__version__)\n",
    "print('Pandas version:', pd.__version__)\n",
    "print('Scikit-Learn version:', sklearn.__version__)\n",
    "print('Matplotlib version:', matplotlib.__version__)\n",
    "print('Seaborn version:', sns.__version__)\n",
    "print('NLTK version:', nltk.__version__)"
   ]
  },
  {
   "cell_type": "code",
   "execution_count": 7,
   "metadata": {},
   "outputs": [],
   "source": [
    "SEED = 42\n",
    "\n",
    "os.environ['PYTHONHASHSEED']=str(SEED)\n",
    "random.seed(SEED)\n",
    "np.random.seed(SEED)"
   ]
  },
  {
   "cell_type": "code",
   "execution_count": 8,
   "metadata": {},
   "outputs": [
    {
     "name": "stdout",
     "output_type": "stream",
     "text": [
      "[nltk_data] Downloading package wordnet to /usr/share/nltk_data...\n",
      "[nltk_data]   Package wordnet is already up-to-date!\n"
     ]
    },
    {
     "data": {
      "text/plain": [
       "True"
      ]
     },
     "execution_count": 8,
     "metadata": {},
     "output_type": "execute_result"
    }
   ],
   "source": [
    "nltk.download('wordnet')"
   ]
  },
  {
   "cell_type": "markdown",
   "execution_count": null,
   "metadata": {},
   "source": [
    "# Dataset"
   ]
  },
  {
   "cell_type": "code",
   "execution_count": 9,
   "metadata": {},
   "outputs": [
    {
     "name": "stdout",
     "output_type": "stream",
     "text": [
      "total 16K\r\n",
      "drwxr-xr-x 4 root   root    4.0K Jul 30 07:25 .\r\n",
      "drwxr-xr-x 6 root   root    4.0K Jul 30 07:25 ..\r\n",
      "drwxr-xr-x 2 nobody nogroup 4.0K Jul 29 19:02 shopee-reviews\r\n",
      "drwxr-xr-x 2 nobody nogroup 4.0K Jul 20 08:34 student-shopee-code-league-sentiment-analysis\r\n",
      "total 21M\r\n",
      "drwxr-xr-x 2 nobody nogroup 4.0K Jul 20 08:34 .\r\n",
      "drwxr-xr-x 4 root   root    4.0K Jul 30 07:25 ..\r\n",
      "-rw-r--r-- 1 nobody nogroup   63 Jul 20 08:34 sampleSubmission.csv\r\n",
      "-rw-r--r-- 1 nobody nogroup 5.9M Jul 20 08:34 test.csv\r\n",
      "-rw-r--r-- 1 nobody nogroup  15M Jul 20 08:34 train.csv\r\n"
     ]
    }
   ],
   "source": [
    "!ls -lha /kaggle/input\n",
    "!ls -lha /kaggle/input/student-shopee-code-league-sentiment-analysis"
   ]
  },
  {
   "cell_type": "code",
   "execution_count": 10,
   "metadata": {},
   "outputs": [
    {
     "data": {
      "text/html": [
       "<div>\n",
       "<style scoped>\n",
       "    .dataframe tbody tr th:only-of-type {\n",
       "        vertical-align: middle;\n",
       "    }\n",
       "\n",
       "    .dataframe tbody tr th {\n",
       "        vertical-align: top;\n",
       "    }\n",
       "\n",
       "    .dataframe thead th {\n",
       "        text-align: right;\n",
       "    }\n",
       "</style>\n",
       "<table border=\"1\" class=\"dataframe\">\n",
       "  <thead>\n",
       "    <tr style=\"text-align: right;\">\n",
       "      <th></th>\n",
       "      <th>review_id</th>\n",
       "      <th>review</th>\n",
       "      <th>rating</th>\n",
       "    </tr>\n",
       "  </thead>\n",
       "  <tbody>\n",
       "    <tr>\n",
       "      <th>131527</th>\n",
       "      <td>131527</td>\n",
       "      <td>Awesome speed of the ship! Awesome awesome qu...</td>\n",
       "      <td>5</td>\n",
       "    </tr>\n",
       "    <tr>\n",
       "      <th>113698</th>\n",
       "      <td>113698</td>\n",
       "      <td>Excellent product quality excellent product q...</td>\n",
       "      <td>5</td>\n",
       "    </tr>\n",
       "    <tr>\n",
       "      <th>43257</th>\n",
       "      <td>43257</td>\n",
       "      <td>The product price is good Packing safe superrr...</td>\n",
       "      <td>3</td>\n",
       "    </tr>\n",
       "    <tr>\n",
       "      <th>62339</th>\n",
       "      <td>62339</td>\n",
       "      <td>Product quality good price good product deliv...</td>\n",
       "      <td>3</td>\n",
       "    </tr>\n",
       "    <tr>\n",
       "      <th>109954</th>\n",
       "      <td>109954</td>\n",
       "      <td>seller very responsive❤️❤️❤️❤️❤️❤️❤️❤️❤️❤️❤️❤️❤️</td>\n",
       "      <td>5</td>\n",
       "    </tr>\n",
       "    <tr>\n",
       "      <th>64301</th>\n",
       "      <td>64301</td>\n",
       "      <td>CP values ​​awesome awesome product quality</td>\n",
       "      <td>4</td>\n",
       "    </tr>\n",
       "    <tr>\n",
       "      <th>24963</th>\n",
       "      <td>24963</td>\n",
       "      <td>It looks like the price is too expensive with ...</td>\n",
       "      <td>2</td>\n",
       "    </tr>\n",
       "    <tr>\n",
       "      <th>80033</th>\n",
       "      <td>80033</td>\n",
       "      <td>Excellent service by seller</td>\n",
       "      <td>4</td>\n",
       "    </tr>\n",
       "    <tr>\n",
       "      <th>141803</th>\n",
       "      <td>141803</td>\n",
       "      <td>The product quality is excellent. The origina...</td>\n",
       "      <td>5</td>\n",
       "    </tr>\n",
       "    <tr>\n",
       "      <th>35302</th>\n",
       "      <td>35302</td>\n",
       "      <td>Good quality Box is no longer in good conditi...</td>\n",
       "      <td>3</td>\n",
       "    </tr>\n",
       "  </tbody>\n",
       "</table>\n",
       "</div>"
      ],
      "text/plain": [
       "        review_id                                             review  rating\n",
       "131527     131527   Awesome speed of the ship! Awesome awesome qu...       5\n",
       "113698     113698   Excellent product quality excellent product q...       5\n",
       "43257       43257  The product price is good Packing safe superrr...       3\n",
       "62339       62339   Product quality good price good product deliv...       3\n",
       "109954     109954   seller very responsive❤️❤️❤️❤️❤️❤️❤️❤️❤️❤️❤️❤️❤️       5\n",
       "64301       64301        CP values ​​awesome awesome product quality       4\n",
       "24963       24963  It looks like the price is too expensive with ...       2\n",
       "80033       80033                        Excellent service by seller       4\n",
       "141803     141803   The product quality is excellent. The origina...       5\n",
       "35302       35302   Good quality Box is no longer in good conditi...       3"
      ]
     },
     "execution_count": 10,
     "metadata": {},
     "output_type": "execute_result"
    }
   ],
   "source": [
    "df_train = pd.read_csv('/kaggle/input/student-shopee-code-league-sentiment-analysis/train.csv')\n",
    "df_train.sample(10)"
   ]
  },
  {
   "cell_type": "code",
   "execution_count": 11,
   "metadata": {},
   "outputs": [
    {
     "name": "stderr",
     "output_type": "stream",
     "text": [
      "/opt/conda/lib/python3.7/site-packages/IPython/core/interactiveshell.py:3063: DtypeWarning: Columns (0) have mixed types.Specify dtype option on import or set low_memory=False.\n",
      "  interactivity=interactivity, compiler=compiler, result=result)\n"
     ]
    },
    {
     "data": {
      "text/html": [
       "<div>\n",
       "<style scoped>\n",
       "    .dataframe tbody tr th:only-of-type {\n",
       "        vertical-align: middle;\n",
       "    }\n",
       "\n",
       "    .dataframe tbody tr th {\n",
       "        vertical-align: top;\n",
       "    }\n",
       "\n",
       "    .dataframe thead th {\n",
       "        text-align: right;\n",
       "    }\n",
       "</style>\n",
       "<table border=\"1\" class=\"dataframe\">\n",
       "  <thead>\n",
       "    <tr style=\"text-align: right;\">\n",
       "      <th></th>\n",
       "      <th>label</th>\n",
       "      <th>text</th>\n",
       "    </tr>\n",
       "  </thead>\n",
       "  <tbody>\n",
       "    <tr>\n",
       "      <th>0</th>\n",
       "      <td>5</td>\n",
       "      <td>Looks ok. Not like so durable. Will hv to use ...</td>\n",
       "    </tr>\n",
       "    <tr>\n",
       "      <th>1</th>\n",
       "      <td>5</td>\n",
       "      <td>Tried, the current can be very powerful depend...</td>\n",
       "    </tr>\n",
       "    <tr>\n",
       "      <th>2</th>\n",
       "      <td>5</td>\n",
       "      <td>Item received after a week. Looks smaller than...</td>\n",
       "    </tr>\n",
       "    <tr>\n",
       "      <th>3</th>\n",
       "      <td>5</td>\n",
       "      <td>Thanks!!! Works as describe no complaints. Not...</td>\n",
       "    </tr>\n",
       "    <tr>\n",
       "      <th>4</th>\n",
       "      <td>5</td>\n",
       "      <td>Fast delivery considering it’s from overseas a...</td>\n",
       "    </tr>\n",
       "    <tr>\n",
       "      <th>...</th>\n",
       "      <td>...</td>\n",
       "      <td>...</td>\n",
       "    </tr>\n",
       "    <tr>\n",
       "      <th>1502570</th>\n",
       "      <td>5</td>\n",
       "      <td>Tried and it fit nicely will buy \\nFast and go...</td>\n",
       "    </tr>\n",
       "    <tr>\n",
       "      <th>1502571</th>\n",
       "      <td>5</td>\n",
       "      <td>It's a fantastic product. Very reasonable pric...</td>\n",
       "    </tr>\n",
       "    <tr>\n",
       "      <th>1502572</th>\n",
       "      <td>5</td>\n",
       "      <td>Nice pair of shoes for a gd price. Note the cu...</td>\n",
       "    </tr>\n",
       "    <tr>\n",
       "      <th>1502573</th>\n",
       "      <td>1</td>\n",
       "      <td>Leather?   Rubbish....moulded plastic. What a ...</td>\n",
       "    </tr>\n",
       "    <tr>\n",
       "      <th>1502574</th>\n",
       "      <td>3</td>\n",
       "      <td>Your size 41 smaller than normal, more like si...</td>\n",
       "    </tr>\n",
       "  </tbody>\n",
       "</table>\n",
       "<p>1502574 rows × 2 columns</p>\n",
       "</div>"
      ],
      "text/plain": [
       "         label                                               text\n",
       "0            5  Looks ok. Not like so durable. Will hv to use ...\n",
       "1            5  Tried, the current can be very powerful depend...\n",
       "2            5  Item received after a week. Looks smaller than...\n",
       "3            5  Thanks!!! Works as describe no complaints. Not...\n",
       "4            5  Fast delivery considering it’s from overseas a...\n",
       "...        ...                                                ...\n",
       "1502570      5  Tried and it fit nicely will buy \\nFast and go...\n",
       "1502571      5  It's a fantastic product. Very reasonable pric...\n",
       "1502572      5  Nice pair of shoes for a gd price. Note the cu...\n",
       "1502573      1  Leather?   Rubbish....moulded plastic. What a ...\n",
       "1502574      3  Your size 41 smaller than normal, more like si...\n",
       "\n",
       "[1502574 rows x 2 columns]"
      ]
     },
     "execution_count": 11,
     "metadata": {},
     "output_type": "execute_result"
    }
   ],
   "source": [
    "df_train2 = pd.read_csv('/kaggle/input/shopee-reviews/shopee_reviews.csv')\n",
    "\n",
    "def to_int(r):\n",
    "    try:\n",
    "        return np.int32(r)\n",
    "    except:\n",
    "        return np.nan\n",
    "\n",
    "df_train2['label'] = df_train2['label'].apply(to_int)\n",
    "df_train2 = df_train2.dropna()\n",
    "df_train2['label'] = df_train2['label'].astype(np.int32)\n",
    "df_train2"
   ]
  },
  {
   "cell_type": "code",
   "execution_count": 12,
   "metadata": {},
   "outputs": [
    {
     "data": {
      "text/html": [
       "<div>\n",
       "<style scoped>\n",
       "    .dataframe tbody tr th:only-of-type {\n",
       "        vertical-align: middle;\n",
       "    }\n",
       "\n",
       "    .dataframe tbody tr th {\n",
       "        vertical-align: top;\n",
       "    }\n",
       "\n",
       "    .dataframe thead th {\n",
       "        text-align: right;\n",
       "    }\n",
       "</style>\n",
       "<table border=\"1\" class=\"dataframe\">\n",
       "  <thead>\n",
       "    <tr style=\"text-align: right;\">\n",
       "      <th></th>\n",
       "      <th>review_id</th>\n",
       "      <th>review</th>\n",
       "    </tr>\n",
       "  </thead>\n",
       "  <tbody>\n",
       "    <tr>\n",
       "      <th>28278</th>\n",
       "      <td>28279</td>\n",
       "      <td>Alhamdulillah finally got jg goods seller nya....</td>\n",
       "    </tr>\n",
       "    <tr>\n",
       "      <th>59033</th>\n",
       "      <td>59034</td>\n",
       "      <td>The light weight would probably make them good...</td>\n",
       "    </tr>\n",
       "    <tr>\n",
       "      <th>60224</th>\n",
       "      <td>60225</td>\n",
       "      <td>Food items correct, Baocunlianghao Oh. Items a...</td>\n",
       "    </tr>\n",
       "    <tr>\n",
       "      <th>37863</th>\n",
       "      <td>37864</td>\n",
       "      <td>Ceppppeeetttt bangett ni aja ve until we order...</td>\n",
       "    </tr>\n",
       "    <tr>\n",
       "      <th>53082</th>\n",
       "      <td>53083</td>\n",
       "      <td>Super-positive rate of shipments of goods awes...</td>\n",
       "    </tr>\n",
       "    <tr>\n",
       "      <th>20995</th>\n",
       "      <td>20996</td>\n",
       "      <td>excelent product</td>\n",
       "    </tr>\n",
       "    <tr>\n",
       "      <th>22085</th>\n",
       "      <td>22086</td>\n",
       "      <td>Very fast deliery, yesterday Oder Kedah today ...</td>\n",
       "    </tr>\n",
       "    <tr>\n",
       "      <th>41185</th>\n",
       "      <td>41186</td>\n",
       "      <td>Awesome speed of the ship awesome awesome qua...</td>\n",
       "    </tr>\n",
       "    <tr>\n",
       "      <th>21457</th>\n",
       "      <td>21458</td>\n",
       "      <td>Very comfortable</td>\n",
       "    </tr>\n",
       "    <tr>\n",
       "      <th>37979</th>\n",
       "      <td>37980</td>\n",
       "      <td>they are not supportive enough or firm enough ...</td>\n",
       "    </tr>\n",
       "  </tbody>\n",
       "</table>\n",
       "</div>"
      ],
      "text/plain": [
       "       review_id                                             review\n",
       "28278      28279  Alhamdulillah finally got jg goods seller nya....\n",
       "59033      59034  The light weight would probably make them good...\n",
       "60224      60225  Food items correct, Baocunlianghao Oh. Items a...\n",
       "37863      37864  Ceppppeeetttt bangett ni aja ve until we order...\n",
       "53082      53083  Super-positive rate of shipments of goods awes...\n",
       "20995      20996                                   excelent product\n",
       "22085      22086  Very fast deliery, yesterday Oder Kedah today ...\n",
       "41185      41186   Awesome speed of the ship awesome awesome qua...\n",
       "21457      21458                                   Very comfortable\n",
       "37979      37980  they are not supportive enough or firm enough ..."
      ]
     },
     "execution_count": 12,
     "metadata": {},
     "output_type": "execute_result"
    }
   ],
   "source": [
    "df_test = pd.read_csv('/kaggle/input/student-shopee-code-league-sentiment-analysis/test.csv')\n",
    "df_test.sample(10)"
   ]
  },
  {
   "cell_type": "code",
   "execution_count": 13,
   "metadata": {},
   "outputs": [],
   "source": [
    "X_train = pd.concat([df_train['review'], df_train2['text']], axis=0)\n",
    "X_train = X_train.reset_index(drop=True)\n",
    "y_train = pd.concat([df_train['rating'], df_train2['label']], axis=0)\n",
    "y_train = y_train.reset_index(drop=True)\n",
    "\n",
    "X_test = df_test['review']"
   ]
  },
  {
   "cell_type": "markdown",
   "execution_count": null,
   "metadata": {},
   "source": [
    "# Class weight"
   ]
  },
  {
   "cell_type": "code",
   "execution_count": 14,
   "metadata": {},
   "outputs": [
    {
     "name": "stdout",
     "output_type": "stream",
     "text": [
      "[43139, 31781, 85024, 143994, 1345447]\n",
      "1649385\n",
      "[0.7367115603050604, 1.0, 0.3737885773428679, 0.2207105851632707, 0.023621145983453825]\n"
     ]
    }
   ],
   "source": [
    "rating_count = y_train.value_counts().sort_index().to_list()\n",
    "total_rating = sum(rating_count)\n",
    "lowest_rating_count = min(rating_count)\n",
    "rating_weight = [lowest_rating_count/rc for rc in rating_count]\n",
    "\n",
    "print(rating_count)\n",
    "print(total_rating)\n",
    "print(rating_weight)"
   ]
  },
  {
   "cell_type": "code",
   "execution_count": 15,
   "metadata": {},
   "outputs": [],
   "source": [
    "class_weight = np.empty((total_rating,))\n",
    "for i in range(total_rating):\n",
    "    class_weight[i] = rating_weight[y_train[i] - 1]"
   ]
  },
  {
   "cell_type": "markdown",
   "execution_count": null,
   "metadata": {},
   "source": [
    "# Preprocess"
   ]
  },
  {
   "cell_type": "code",
   "execution_count": 16,
   "metadata": {},
   "outputs": [],
   "source": [
    "from nltk.stem import WordNetLemmatizer\n",
    "from Sastrawi.Stemmer.StemmerFactory import StemmerFactory\n",
    "\n",
    "lemmatizer = WordNetLemmatizer() # for en\n",
    "factory = StemmerFactory() # for id\n",
    "stemmer = factory.create_stemmer() # for id\n",
    "\n",
    "tweet_tokenizer = nltk.tokenize.TweetTokenizer(preserve_case=False, strip_handles=True, reduce_len=True)\n",
    "\n",
    "eng_dict = enchant.Dict('en')\n",
    "ind_dict = enchant.Dict('id_ID')\n",
    "\n",
    "def remove_char(text):\n",
    "    text = re.sub(r'[^a-z ]', ' ', text)\n",
    "    return text\n",
    "\n",
    "\n",
    "def stem_lemma(tokens):\n",
    "    new_token = []\n",
    "    for token in tokens:\n",
    "        if eng_dict.check(token):\n",
    "            new_token.append(lemmatizer.lemmatize(token))\n",
    "        elif ind_dict.check(token):\n",
    "            new_token.append(stemmer.stem(token))\n",
    "        else:\n",
    "            new_token.append(token)\n",
    "    return new_token\n",
    "\n",
    "def upper_or_lower(tokens):\n",
    "    new_token = []\n",
    "    for token in tokens:\n",
    "        total_lower = len(re.findall(r'[a-z]',token))\n",
    "        total_upper = len(re.findall(r'[A-Z]',token))\n",
    "        if total_lower == 0 or total_upper == 0:\n",
    "            new_token.append(token)\n",
    "        elif total_lower > total_upper:\n",
    "            new_token.append(token.lower())\n",
    "        else:\n",
    "            new_token.append(token.upper())\n",
    "    return new_token\n",
    "    \n",
    "\n",
    "def preprocess(X):\n",
    "    X = X.apply(tweet_tokenizer.tokenize)\n",
    "    X = X.apply(lambda token: [t for t in token if t != ''])\n",
    "    X = X.apply(upper_or_lower)\n",
    "    X = X.apply(stem_lemma)\n",
    "#     X = X.apply(lambda token: ' '.join(token)) # need to join token because sklearn tf-idf only accept string, not list of string\n",
    "    \n",
    "#     X = X.apply(remove_char)\n",
    "    return X"
   ]
  },
  {
   "cell_type": "code",
   "execution_count": 17,
   "metadata": {},
   "outputs": [],
   "source": [
    "X_train = preprocess(X_train)\n",
    "X_test = preprocess(X_test)"
   ]
  },
  {
   "cell_type": "code",
   "execution_count": 18,
   "metadata": {},
   "outputs": [
    {
     "data": {
      "text/plain": [
       "752370     [item, received, ,, good, quality, and, workin...\n",
       "1282336    [item, received, a, described, and, in, good, ...\n",
       "1473734          [good, product, !, !, !, fast, delivery, 👍]\n",
       "1052211    [delivery, time, not, that, bad, ., can, ’, t,...\n",
       "1120389    [the, size, s, pant, were, too, big, for, me, ...\n",
       "794160     [lousy, product, ., it, work, for, around, 5, ...\n",
       "282132     [good, brush, ., havent, try, yet, but, i, bel...\n",
       "727173     [very, happy, with, this, buy, ., ordered, on,...\n",
       "1284409    [received, a, per, advised, delivery, date, .,...\n",
       "1088639    [item, wa, well, packaged, and, delivered, ver...\n",
       "dtype: object"
      ]
     },
     "execution_count": 18,
     "metadata": {},
     "output_type": "execute_result"
    }
   ],
   "source": [
    "X_train.sample(10)"
   ]
  },
  {
   "cell_type": "markdown",
   "execution_count": null,
   "metadata": {},
   "source": [
    "# Word representation"
   ]
  },
  {
   "cell_type": "code",
   "execution_count": 19,
   "metadata": {},
   "outputs": [],
   "source": [
    "from sklearn.feature_extraction.text import TfidfVectorizer\n",
    "\n",
    "bow_vectorizer = TfidfVectorizer(lowercase=False, ngram_range=(1,2), analyzer=lambda t:t, min_df=5, sublinear_tf=True)\n",
    "\n",
    "X_train = bow_vectorizer.fit_transform(X_train)\n",
    "X_test = bow_vectorizer.transform(X_test)\n"
   ]
  },
  {
   "cell_type": "code",
   "execution_count": 20,
   "metadata": {},
   "outputs": [
    {
     "name": "stdout",
     "output_type": "stream",
     "text": [
      "(1649385, 27753)\n",
      "(60427, 27753)\n"
     ]
    }
   ],
   "source": [
    "print(X_train.shape)\n",
    "print(X_test.shape)"
   ]
  },
  {
   "cell_type": "markdown",
   "execution_count": null,
   "metadata": {},
   "source": [
    "# Model functions"
   ]
  },
  {
   "cell_type": "code",
   "execution_count": 21,
   "metadata": {},
   "outputs": [],
   "source": [
    "from sklearn.metrics import classification_report, f1_score, confusion_matrix\n",
    "\n",
    "def predict(model, X):\n",
    "    y = model.predict(X)\n",
    "    return y\n",
    "\n",
    "def metrics(y_true, y_pred):\n",
    "    print('F1 Score :', f1_score(y_true, y_pred, average='macro'))\n",
    "    print(classification_report(y_true, y_pred))\n",
    "\n",
    "    cm = confusion_matrix(y_true, y_pred)\n",
    "    cm = pd.DataFrame(cm, [1,2,3,4,5], [1,2,3,4,5])\n",
    "\n",
    "    sns.heatmap(cm, annot=True, cmap=\"YlGnBu\", fmt=\"d\")\n",
    "    plt.show()"
   ]
  },
  {
   "cell_type": "markdown",
   "execution_count": null,
   "metadata": {},
   "source": [
    "# MultinomialNB"
   ]
  },
  {
   "cell_type": "code",
   "execution_count": 22,
   "metadata": {},
   "outputs": [
    {
     "data": {
      "text/plain": [
       "MultinomialNB()"
      ]
     },
     "execution_count": 22,
     "metadata": {},
     "output_type": "execute_result"
    }
   ],
   "source": [
    "from sklearn.naive_bayes import MultinomialNB\n",
    "clf = MultinomialNB()\n",
    "clf.fit(X_train, y_train, class_weight)"
   ]
  },
  {
   "cell_type": "code",
   "execution_count": 23,
   "metadata": {},
   "outputs": [
    {
     "name": "stdout",
     "output_type": "stream",
     "text": [
      "F1 Score : 0.4193861236669923\n",
      "              precision    recall  f1-score   support\n",
      "\n",
      "           1       0.29      0.69      0.41     43139\n",
      "           2       0.15      0.49      0.23     31781\n",
      "           3       0.28      0.36      0.31     85024\n",
      "           4       0.22      0.44      0.30    143994\n",
      "           5       0.96      0.75      0.84   1345447\n",
      "\n",
      "    accuracy                           0.70   1649385\n",
      "   macro avg       0.38      0.55      0.42   1649385\n",
      "weighted avg       0.83      0.70      0.74   1649385\n",
      "\n"
     ]
    },
    {
     "data": {
      "image/png": "[encoded data removed]",
      "text/plain": [
       "<Figure size 432x288 with 2 Axes>"
      ]
     },
     "metadata": {
      "needs_background": "light"
     },
     "output_type": "display_data"
    }
   ],
   "source": [
    "y_train_pred = predict(clf, X_train)\n",
    "metrics(y_train, y_train_pred)"
   ]
  },
  {
   "cell_type": "code",
   "execution_count": 24,
   "metadata": {},
   "outputs": [
    {
     "data": {
      "text/html": [
       "<div>\n",
       "<style scoped>\n",
       "    .dataframe tbody tr th:only-of-type {\n",
       "        vertical-align: middle;\n",
       "    }\n",
       "\n",
       "    .dataframe tbody tr th {\n",
       "        vertical-align: top;\n",
       "    }\n",
       "\n",
       "    .dataframe thead th {\n",
       "        text-align: right;\n",
       "    }\n",
       "</style>\n",
       "<table border=\"1\" class=\"dataframe\">\n",
       "  <thead>\n",
       "    <tr style=\"text-align: right;\">\n",
       "      <th></th>\n",
       "      <th>review_id</th>\n",
       "      <th>rating</th>\n",
       "    </tr>\n",
       "  </thead>\n",
       "  <tbody>\n",
       "    <tr>\n",
       "      <th>0</th>\n",
       "      <td>1</td>\n",
       "      <td>3</td>\n",
       "    </tr>\n",
       "    <tr>\n",
       "      <th>1</th>\n",
       "      <td>2</td>\n",
       "      <td>3</td>\n",
       "    </tr>\n",
       "    <tr>\n",
       "      <th>2</th>\n",
       "      <td>3</td>\n",
       "      <td>5</td>\n",
       "    </tr>\n",
       "    <tr>\n",
       "      <th>3</th>\n",
       "      <td>4</td>\n",
       "      <td>5</td>\n",
       "    </tr>\n",
       "    <tr>\n",
       "      <th>4</th>\n",
       "      <td>5</td>\n",
       "      <td>5</td>\n",
       "    </tr>\n",
       "    <tr>\n",
       "      <th>...</th>\n",
       "      <td>...</td>\n",
       "      <td>...</td>\n",
       "    </tr>\n",
       "    <tr>\n",
       "      <th>60422</th>\n",
       "      <td>60423</td>\n",
       "      <td>4</td>\n",
       "    </tr>\n",
       "    <tr>\n",
       "      <th>60423</th>\n",
       "      <td>60424</td>\n",
       "      <td>2</td>\n",
       "    </tr>\n",
       "    <tr>\n",
       "      <th>60424</th>\n",
       "      <td>60425</td>\n",
       "      <td>4</td>\n",
       "    </tr>\n",
       "    <tr>\n",
       "      <th>60425</th>\n",
       "      <td>60426</td>\n",
       "      <td>2</td>\n",
       "    </tr>\n",
       "    <tr>\n",
       "      <th>60426</th>\n",
       "      <td>60427</td>\n",
       "      <td>3</td>\n",
       "    </tr>\n",
       "  </tbody>\n",
       "</table>\n",
       "<p>60427 rows × 2 columns</p>\n",
       "</div>"
      ],
      "text/plain": [
       "       review_id  rating\n",
       "0              1       3\n",
       "1              2       3\n",
       "2              3       5\n",
       "3              4       5\n",
       "4              5       5\n",
       "...          ...     ...\n",
       "60422      60423       4\n",
       "60423      60424       2\n",
       "60424      60425       4\n",
       "60425      60426       2\n",
       "60426      60427       3\n",
       "\n",
       "[60427 rows x 2 columns]"
      ]
     },
     "execution_count": 24,
     "metadata": {},
     "output_type": "execute_result"
    }
   ],
   "source": [
    "y_test_pred = predict(clf, X_test)\n",
    "\n",
    "df_submission = pd.concat([df_test['review_id'], pd.Series(y_test_pred, name='rating')], axis=1)\n",
    "df_submission.to_csv('submission_MultinomialNB.csv', index=False)\n",
    "\n",
    "df_submission"
   ]
  },
  {
   "cell_type": "markdown",
   "execution_count": null,
   "metadata": {},
   "source": [
    "# ComplementNB"
   ]
  },
  {
   "cell_type": "code",
   "execution_count": 25,
   "metadata": {},
   "outputs": [
    {
     "data": {
      "text/plain": [
       "ComplementNB()"
      ]
     },
     "execution_count": 25,
     "metadata": {},
     "output_type": "execute_result"
    }
   ],
   "source": [
    "from sklearn.naive_bayes import ComplementNB\n",
    "clf = ComplementNB()\n",
    "clf.fit(X_train, y_train, class_weight)"
   ]
  },
  {
   "cell_type": "code",
   "execution_count": 26,
   "metadata": {},
   "outputs": [
    {
     "name": "stdout",
     "output_type": "stream",
     "text": [
      "F1 Score : 0.417531821796749\n",
      "              precision    recall  f1-score   support\n",
      "\n",
      "           1       0.24      0.76      0.36     43139\n",
      "           2       0.16      0.42      0.23     31781\n",
      "           3       0.32      0.30      0.31     85024\n",
      "           4       0.28      0.31      0.30    143994\n",
      "           5       0.94      0.83      0.88   1345447\n",
      "\n",
      "    accuracy                           0.75   1649385\n",
      "   macro avg       0.39      0.53      0.42   1649385\n",
      "weighted avg       0.82      0.75      0.77   1649385\n",
      "\n"
     ]
    },
    {
     "data": {
      "image/png": "[encoded data removed]",
      "text/plain": [
       "<Figure size 432x288 with 2 Axes>"
      ]
     },
     "metadata": {
      "needs_background": "light"
     },
     "output_type": "display_data"
    }
   ],
   "source": [
    "y_train_pred = predict(clf, X_train)\n",
    "metrics(y_train, y_train_pred)"
   ]
  },
  {
   "cell_type": "code",
   "execution_count": 27,
   "metadata": {},
   "outputs": [
    {
     "data": {
      "text/html": [
       "<div>\n",
       "<style scoped>\n",
       "    .dataframe tbody tr th:only-of-type {\n",
       "        vertical-align: middle;\n",
       "    }\n",
       "\n",
       "    .dataframe tbody tr th {\n",
       "        vertical-align: top;\n",
       "    }\n",
       "\n",
       "    .dataframe thead th {\n",
       "        text-align: right;\n",
       "    }\n",
       "</style>\n",
       "<table border=\"1\" class=\"dataframe\">\n",
       "  <thead>\n",
       "    <tr style=\"text-align: right;\">\n",
       "      <th></th>\n",
       "      <th>review_id</th>\n",
       "      <th>rating</th>\n",
       "    </tr>\n",
       "  </thead>\n",
       "  <tbody>\n",
       "    <tr>\n",
       "      <th>0</th>\n",
       "      <td>1</td>\n",
       "      <td>3</td>\n",
       "    </tr>\n",
       "    <tr>\n",
       "      <th>1</th>\n",
       "      <td>2</td>\n",
       "      <td>1</td>\n",
       "    </tr>\n",
       "    <tr>\n",
       "      <th>2</th>\n",
       "      <td>3</td>\n",
       "      <td>5</td>\n",
       "    </tr>\n",
       "    <tr>\n",
       "      <th>3</th>\n",
       "      <td>4</td>\n",
       "      <td>5</td>\n",
       "    </tr>\n",
       "    <tr>\n",
       "      <th>4</th>\n",
       "      <td>5</td>\n",
       "      <td>5</td>\n",
       "    </tr>\n",
       "    <tr>\n",
       "      <th>...</th>\n",
       "      <td>...</td>\n",
       "      <td>...</td>\n",
       "    </tr>\n",
       "    <tr>\n",
       "      <th>60422</th>\n",
       "      <td>60423</td>\n",
       "      <td>4</td>\n",
       "    </tr>\n",
       "    <tr>\n",
       "      <th>60423</th>\n",
       "      <td>60424</td>\n",
       "      <td>2</td>\n",
       "    </tr>\n",
       "    <tr>\n",
       "      <th>60424</th>\n",
       "      <td>60425</td>\n",
       "      <td>4</td>\n",
       "    </tr>\n",
       "    <tr>\n",
       "      <th>60425</th>\n",
       "      <td>60426</td>\n",
       "      <td>1</td>\n",
       "    </tr>\n",
       "    <tr>\n",
       "      <th>60426</th>\n",
       "      <td>60427</td>\n",
       "      <td>3</td>\n",
       "    </tr>\n",
       "  </tbody>\n",
       "</table>\n",
       "<p>60427 rows × 2 columns</p>\n",
       "</div>"
      ],
      "text/plain": [
       "       review_id  rating\n",
       "0              1       3\n",
       "1              2       1\n",
       "2              3       5\n",
       "3              4       5\n",
       "4              5       5\n",
       "...          ...     ...\n",
       "60422      60423       4\n",
       "60423      60424       2\n",
       "60424      60425       4\n",
       "60425      60426       1\n",
       "60426      60427       3\n",
       "\n",
       "[60427 rows x 2 columns]"
      ]
     },
     "execution_count": 27,
     "metadata": {},
     "output_type": "execute_result"
    }
   ],
   "source": [
    "y_test_pred = predict(clf, X_test)\n",
    "\n",
    "df_submission = pd.concat([df_test['review_id'], pd.Series(y_test_pred, name='rating')], axis=1)\n",
    "df_submission.to_csv('submission_ComplementNB.csv', index=False)\n",
    "\n",
    "df_submission"
   ]
  },
  {
   "cell_type": "markdown",
   "execution_count": null,
   "metadata": {},
   "source": [
    "# RandomForestClassifier"
   ]
  },
  {
   "cell_type": "code",
   "execution_count": 28,
   "metadata": {},
   "outputs": [],
   "source": [
    "# from sklearn.ensemble import RandomForestClassifier\n",
    "\n",
    "# clf = RandomForestClassifier(random_state=SEED)\n",
    "# clf.fit(X_train, y_train)"
   ]
  },
  {
   "cell_type": "code",
   "execution_count": 29,
   "metadata": {},
   "outputs": [],
   "source": [
    "# y_train_pred = predict(clf, X_train)\n",
    "# metrics(y_train, y_train_pred)"
   ]
  },
  {
   "cell_type": "code",
   "execution_count": 30,
   "metadata": {},
   "outputs": [],
   "source": [
    "# y_test_pred = predict(clf, X_test)\n",
    "\n",
    "# df_submission = pd.concat([df_test['review_id'], pd.Series(y_test_pred, name='rating')], axis=1)\n",
    "# df_submission.to_csv('submission.csv', index=False)\n",
    "\n",
    "# df_submission"
   ]
  },
  {
   "cell_type": "markdown",
   "execution_count": null,
   "metadata": {},
   "source": [
    "# SVM"
   ]
  },
  {
   "cell_type": "code",
   "execution_count": 31,
   "metadata": {},
   "outputs": [],
   "source": [
    "# from sklearn.svm import SVC\n",
    "\n",
    "# clf = SVC(kernel='rbf', C=1, cache_size=10240)\n",
    "# clf.fit(X_train, y_train)"
   ]
  },
  {
   "cell_type": "code",
   "execution_count": 32,
   "metadata": {},
   "outputs": [],
   "source": [
    "# y_train_pred = predict(clf, X_train)\n",
    "# metrics(y_train, y_train_pred)"
   ]
  },
  {
   "cell_type": "code",
   "execution_count": 33,
   "metadata": {},
   "outputs": [],
   "source": [
    "# y_test_pred = predict(clf, X_test)\n",
    "\n",
    "# df_submission = pd.concat([df_test['review_id'], pd.Series(y_test_pred, name='rating')], axis=1)\n",
    "# df_submission.to_csv('submission.csv', index=False)\n",
    "\n",
    "# df_submission"
   ]
  }
 ],
 "metadata": {
  "kernelspec": {
   "display_name": "Python 3",
   "language": "python",
   "name": "python3"
  },
  "language_info": {
   "codemirror_mode": {
    "name": "ipython",
    "version": 3
   },
   "file_extension": ".py",
   "mimetype": "text/x-python",
   "name": "python",
   "nbconvert_exporter": "python",
   "pygments_lexer": "ipython3",
   "version": "3.7.6"
  }
 },
 "nbformat": 4,
 "nbformat_minor": 4
}
