{
 "cells": [
  {
   "cell_type": "markdown",
   "execution_count": null,
   "metadata": {},
   "source": [
    "# Changelog\n",
    "\n",
    "### Version 9\n",
    "\n",
    "* Lower min_df for TF-IDF from 25 to 10\n",
    "* Increase n_estimators from 100 to 150\n",
    "\n",
    "### Version 8\n",
    "\n",
    "* Use LightGBM\n",
    "* Load dataset from prepared parquet\n",
    "* Use 3-gram for TF-IDF\n",
    "\n",
    "### Version 3\n",
    "\n",
    "* Change TF-IDF param\n",
    "* More trees\n",
    "* Denser trees\n",
    "* Lower LR\n",
    "* Lower or upper token depends on total lower/upper char\n",
    "\n",
    "### Version 1\n",
    "\n",
    "* Initialize code"
   ]
  },
  {
   "cell_type": "markdown",
   "execution_count": null,
   "metadata": {},
   "source": [
    "# Library"
   ]
  },
  {
   "cell_type": "code",
   "execution_count": 1,
   "metadata": {},
   "outputs": [
    {
     "name": "stdout",
     "output_type": "stream",
     "text": [
      "Collecting pyenchant\r\n",
      "  Downloading pyenchant-3.1.1-py3-none-any.whl (55 kB)\r\n",
      "\u001b[K     |████████████████████████████████| 55 kB 1.6 MB/s \r\n",
      "\u001b[?25hCollecting pysastrawi\r\n",
      "  Downloading PySastrawi-1.2.0-py2.py3-none-any.whl (210 kB)\r\n",
      "\u001b[K     |████████████████████████████████| 210 kB 16.3 MB/s \r\n",
      "\u001b[?25hInstalling collected packages: pyenchant, pysastrawi\r\n",
      "Successfully installed pyenchant-3.1.1 pysastrawi-1.2.0\r\n",
      "\u001b[33mWARNING: You are using pip version 20.1.1; however, version 20.2 is available.\r\n",
      "You should consider upgrading via the '/opt/conda/bin/python3.7 -m pip install --upgrade pip' command.\u001b[0m\r\n"
     ]
    }
   ],
   "source": [
    "!pip install pyenchant pysastrawi"
   ]
  },
  {
   "cell_type": "code",
   "execution_count": 2,
   "metadata": {},
   "outputs": [
    {
     "name": "stdout",
     "output_type": "stream",
     "text": [
      "--2020-07-31 13:20:51--  http://archive.ubuntu.com/ubuntu/pool/main/libr/libreoffice-dictionaries/hunspell-id_6.4.3-1_all.deb\r\n",
      "Resolving archive.ubuntu.com (archive.ubuntu.com)... 91.189.88.152, 91.189.88.142, 2001:67c:1360:8001::24, ...\r\n",
      "Connecting to archive.ubuntu.com (archive.ubuntu.com)|91.189.88.152|:80... connected.\r\n",
      "HTTP request sent, awaiting response... 200 OK\r\n",
      "Length: 143836 (140K) [application/x-debian-package]\r\n",
      "Saving to: ‘hunspell-id_6.4.3-1_all.deb’\r\n",
      "\r\n",
      "hunspell-id_6.4.3-1 100%[===================>] 140.46K  --.-KB/s    in 0.03s   \r\n",
      "\r\n",
      "2020-07-31 13:20:51 (4.17 MB/s) - ‘hunspell-id_6.4.3-1_all.deb’ saved [143836/143836]\r\n",
      "\r\n",
      "Selecting previously unselected package hunspell-id.\r\n",
      "(Reading database ... 107461 files and directories currently installed.)\r\n",
      "Preparing to unpack hunspell-id_6.4.3-1_all.deb ...\r\n",
      "Unpacking hunspell-id (1:6.4.3-1) ...\r\n",
      "Setting up hunspell-id (1:6.4.3-1) ...\r\n"
     ]
    }
   ],
   "source": [
    "!wget http://archive.ubuntu.com/ubuntu/pool/main/libr/libreoffice-dictionaries/hunspell-id_6.4.3-1_all.deb\n",
    "!dpkg -i hunspell-id_6.4.3-1_all.deb"
   ]
  },
  {
   "cell_type": "code",
   "execution_count": 3,
   "metadata": {},
   "outputs": [
    {
     "name": "stdout",
     "output_type": "stream",
     "text": [
      "Hit:1 http://archive.ubuntu.com/ubuntu bionic InRelease\r\n",
      "Get:2 http://archive.ubuntu.com/ubuntu bionic-updates InRelease [88.7 kB]\r\n",
      "Get:3 http://packages.cloud.google.com/apt gcsfuse-bionic InRelease [3724 B]\r\n",
      "Get:4 http://archive.ubuntu.com/ubuntu bionic-backports InRelease [74.6 kB]\r\n",
      "Get:5 http://packages.cloud.google.com/apt cloud-sdk-bionic InRelease [6384 B]\r\n",
      "Get:6 http://packages.cloud.google.com/apt cloud-sdk InRelease [6349 B]\r\n",
      "Get:7 http://security.ubuntu.com/ubuntu bionic-security InRelease [88.7 kB]\r\n",
      "Get:8 http://archive.ubuntu.com/ubuntu bionic-updates/universe amd64 Packages [1413 kB]\r\n",
      "Get:9 http://archive.ubuntu.com/ubuntu bionic-updates/restricted amd64 Packages [116 kB]\r\n",
      "Get:10 http://archive.ubuntu.com/ubuntu bionic-updates/main amd64 Packages [1334 kB]\r\n",
      "Get:11 http://archive.ubuntu.com/ubuntu bionic-updates/multiverse amd64 Packages [27.2 kB]\r\n",
      "Get:12 http://archive.ubuntu.com/ubuntu bionic-backports/universe amd64 Packages [8432 B]\r\n",
      "Get:13 http://packages.cloud.google.com/apt cloud-sdk-bionic/main amd64 Packages [132 kB]\r\n",
      "Get:14 http://packages.cloud.google.com/apt cloud-sdk/main amd64 Packages [124 kB]\r\n",
      "Get:15 http://security.ubuntu.com/ubuntu bionic-security/main amd64 Packages [1033 kB]\r\n",
      "Get:16 http://security.ubuntu.com/ubuntu bionic-security/multiverse amd64 Packages [9555 B]\r\n",
      "Get:17 http://security.ubuntu.com/ubuntu bionic-security/universe amd64 Packages [880 kB]\r\n",
      "Get:18 http://security.ubuntu.com/ubuntu bionic-security/restricted amd64 Packages [100 kB]\r\n",
      "Fetched 5447 kB in 2s (3049 kB/s)\r\n",
      "\r\n",
      "\r\n",
      "\r\n",
      "93 packages can be upgraded. Run 'apt list --upgradable' to see them.\r\n",
      "\r\n",
      "\r\n",
      "\r\n",
      "hunspell-en-us is already the newest version (1:2017.08.24).\r\n",
      "hunspell-en-us set to manually installed.\r\n",
      "libhunspell-1.6-0 is already the newest version (1.6.2-1).\r\n",
      "libhunspell-1.6-0 set to manually installed.\r\n",
      "The following additional packages will be installed:\r\n",
      "  aspell aspell-en libaspell15\r\n",
      "Suggested packages:\r\n",
      "  aspell-doc spellutils libenchant-voikko\r\n",
      "The following NEW packages will be installed:\r\n",
      "  aspell aspell-en enchant hunspell libaspell15 libenchant1c2a\r\n",
      "0 upgraded, 6 newly installed, 0 to remove and 93 not upgraded.\r\n",
      "Need to get 834 kB of archives.\r\n",
      "After this operation, 3485 kB of additional disk space will be used.\r\n",
      "Get:1 http://archive.ubuntu.com/ubuntu bionic-updates/main amd64 libaspell15 amd64 0.60.7~20110707-4ubuntu0.1 [309 kB]\r\n",
      "Get:2 http://archive.ubuntu.com/ubuntu bionic-updates/main amd64 aspell amd64 0.60.7~20110707-4ubuntu0.1 [87.6 kB]\r\n",
      "Get:3 http://archive.ubuntu.com/ubuntu bionic/main amd64 aspell-en all 2017.08.24-0-0.1 [298 kB]\r\n",
      "Get:4 http://archive.ubuntu.com/ubuntu bionic/main amd64 libenchant1c2a amd64 1.6.0-11.1 [64.4 kB]\r\n",
      "Get:5 http://archive.ubuntu.com/ubuntu bionic/main amd64 enchant amd64 1.6.0-11.1 [12.2 kB]\r\n",
      "Get:6 http://archive.ubuntu.com/ubuntu bionic/universe amd64 hunspell amd64 1.6.2-1 [62.5 kB]\r\n",
      "Fetched 834 kB in 0s (8250 kB/s)\r\n",
      "debconf: delaying package configuration, since apt-utils is not installed\r\n",
      "\n",
      "\u001b7\u001b[0;23r\u001b8\u001b[1ASelecting previously unselected package libaspell15:amd64.\r\n",
      "(Reading database ... 107466 files and directories currently installed.)\r\n",
      "Preparing to unpack .../0-libaspell15_0.60.7~20110707-4ubuntu0.1_amd64.deb ...\r\n",
      "\u001b7\u001b[24;0f\u001b[42m\u001b[30mProgress: [  0%]\u001b[49m\u001b[39m [..........................................................] \u001b8\u001b7\u001b[24;0f\u001b[42m\u001b[30mProgress: [  3%]\u001b[49m\u001b[39m [#.........................................................] \u001b8Unpacking libaspell15:amd64 (0.60.7~20110707-4ubuntu0.1) ...\r\n",
      "\u001b7\u001b[24;0f\u001b[42m\u001b[30mProgress: [  6%]\u001b[49m\u001b[39m [###.......................................................] \u001b8\u001b7\u001b[24;0f\u001b[42m\u001b[30mProgress: [ 10%]\u001b[49m\u001b[39m [#####.....................................................] \u001b8Selecting previously unselected package aspell.\r\n",
      "Preparing to unpack .../1-aspell_0.60.7~20110707-4ubuntu0.1_amd64.deb ...\r\n",
      "\u001b7\u001b[24;0f\u001b[42m\u001b[30mProgress: [ 13%]\u001b[49m\u001b[39m [#######...................................................] \u001b8Unpacking aspell (0.60.7~20110707-4ubuntu0.1) ...\r\n",
      "\u001b7\u001b[24;0f\u001b[42m\u001b[30mProgress: [ 16%]\u001b[49m\u001b[39m [#########.................................................] \u001b8\u001b7\u001b[24;0f\u001b[42m\u001b[30mProgress: [ 19%]\u001b[49m\u001b[39m [###########...............................................] \u001b8Selecting previously unselected package aspell-en.\r\n",
      "Preparing to unpack .../2-aspell-en_2017.08.24-0-0.1_all.deb ...\r\n",
      "\u001b7\u001b[24;0f\u001b[42m\u001b[30mProgress: [ 23%]\u001b[49m\u001b[39m [#############.............................................] \u001b8Unpacking aspell-en (2017.08.24-0-0.1) ...\r\n",
      "\u001b7\u001b[24;0f\u001b[42m\u001b[30mProgress: [ 26%]\u001b[49m\u001b[39m [##############............................................] \u001b8\u001b7\u001b[24;0f\u001b[42m\u001b[30mProgress: [ 29%]\u001b[49m\u001b[39m [################..........................................] \u001b8Selecting previously unselected package libenchant1c2a:amd64.\r\n",
      "Preparing to unpack .../3-libenchant1c2a_1.6.0-11.1_amd64.deb ...\r\n",
      "\u001b7\u001b[24;0f\u001b[42m\u001b[30mProgress: [ 32%]\u001b[49m\u001b[39m [##################........................................] \u001b8Unpacking libenchant1c2a:amd64 (1.6.0-11.1) ...\r\n",
      "\u001b7\u001b[24;0f\u001b[42m\u001b[30mProgress: [ 35%]\u001b[49m\u001b[39m [####################......................................] \u001b8\u001b7\u001b[24;0f\u001b[42m\u001b[30mProgress: [ 39%]\u001b[49m\u001b[39m [######################....................................] \u001b8Selecting previously unselected package enchant.\r\n",
      "Preparing to unpack .../4-enchant_1.6.0-11.1_amd64.deb ...\r\n",
      "\u001b7\u001b[24;0f\u001b[42m\u001b[30mProgress: [ 42%]\u001b[49m\u001b[39m [########################..................................] \u001b8Unpacking enchant (1.6.0-11.1) ...\r\n",
      "\u001b7\u001b[24;0f\u001b[42m\u001b[30mProgress: [ 45%]\u001b[49m\u001b[39m [##########################................................] \u001b8\u001b7\u001b[24;0f\u001b[42m\u001b[30mProgress: [ 48%]\u001b[49m\u001b[39m [############################..............................] \u001b8Selecting previously unselected package hunspell.\r\n",
      "Preparing to unpack .../5-hunspell_1.6.2-1_amd64.deb ...\r\n",
      "\u001b7\u001b[24;0f\u001b[42m\u001b[30mProgress: [ 52%]\u001b[49m\u001b[39m [#############################.............................] \u001b8Unpacking hunspell (1.6.2-1) ...\r\n",
      "\u001b7\u001b[24;0f\u001b[42m\u001b[30mProgress: [ 55%]\u001b[49m\u001b[39m [###############################...........................] \u001b8\u001b7\u001b[24;0f\u001b[42m\u001b[30mProgress: [ 58%]\u001b[49m\u001b[39m [#################################.........................] \u001b8Setting up libaspell15:amd64 (0.60.7~20110707-4ubuntu0.1) ...\r\n",
      "\u001b7\u001b[24;0f\u001b[42m\u001b[30mProgress: [ 61%]\u001b[49m\u001b[39m [###################################.......................] \u001b8\u001b7\u001b[24;0f\u001b[42m\u001b[30mProgress: [ 65%]\u001b[49m\u001b[39m [#####################################.....................] \u001b8Setting up aspell (0.60.7~20110707-4ubuntu0.1) ...\r\n",
      "\u001b7\u001b[24;0f\u001b[42m\u001b[30mProgress: [ 68%]\u001b[49m\u001b[39m [#######################################...................] \u001b8debconf: unable to initialize frontend: Dialog\r\n",
      "debconf: (No usable dialog-like program is installed, so the dialog based frontend cannot be used. at /usr/share/perl5/Debconf/FrontEnd/Dialog.pm line 76.)\r\n",
      "debconf: falling back to frontend: Readline\r\n",
      "\u001b7\u001b[24;0f\u001b[42m\u001b[30mProgress: [ 71%]\u001b[49m\u001b[39m [#########################################.................] \u001b8Setting up hunspell (1.6.2-1) ...\r\n",
      "\u001b7\u001b[24;0f\u001b[42m\u001b[30mProgress: [ 74%]\u001b[49m\u001b[39m [###########################################...............] \u001b8\u001b7\u001b[24;0f\u001b[42m\u001b[30mProgress: [ 77%]\u001b[49m\u001b[39m [############################################..............] \u001b8Setting up libenchant1c2a:amd64 (1.6.0-11.1) ...\r\n",
      "\u001b7\u001b[24;0f\u001b[42m\u001b[30mProgress: [ 81%]\u001b[49m\u001b[39m [##############################################............] \u001b8\u001b7\u001b[24;0f\u001b[42m\u001b[30mProgress: [ 84%]\u001b[49m\u001b[39m [################################################..........] \u001b8Setting up aspell-en (2017.08.24-0-0.1) ...\r\n",
      "\u001b7\u001b[24;0f\u001b[42m\u001b[30mProgress: [ 87%]\u001b[49m\u001b[39m [##################################################........] \u001b8debconf: unable to initialize frontend: Dialog\r\n",
      "debconf: (No usable dialog-like program is installed, so the dialog based frontend cannot be used. at /usr/share/perl5/Debconf/FrontEnd/Dialog.pm line 76.)\r\n",
      "debconf: falling back to frontend: Readline\r\n",
      "\u001b7\u001b[24;0f\u001b[42m\u001b[30mProgress: [ 90%]\u001b[49m\u001b[39m [####################################################......] \u001b8Setting up enchant (1.6.0-11.1) ...\r\n",
      "\u001b7\u001b[24;0f\u001b[42m\u001b[30mProgress: [ 94%]\u001b[49m\u001b[39m [######################################################....] \u001b8\u001b7\u001b[24;0f\u001b[42m\u001b[30mProgress: [ 97%]\u001b[49m\u001b[39m [########################################################..] \u001b8Processing triggers for libc-bin (2.27-3ubuntu1) ...\r\n",
      "Processing triggers for dictionaries-common (1.27.2) ...\r\n",
      "debconf: unable to initialize frontend: Dialog\r\n",
      "debconf: (No usable dialog-like program is installed, so the dialog based frontend cannot be used. at /usr/share/perl5/Debconf/FrontEnd/Dialog.pm line 76.)\r\n",
      "debconf: falling back to frontend: Readline\r\n",
      "aspell-autobuildhash: processing: en [en-common].\r\n",
      "aspell-autobuildhash: processing: en [en-variant_0].\r\n",
      "aspell-autobuildhash: processing: en [en-variant_1].\r\n",
      "aspell-autobuildhash: processing: en [en-variant_2].\r\n",
      "aspell-autobuildhash: processing: en [en-w_accents-only].\r\n",
      "aspell-autobuildhash: processing: en [en-wo_accents-only].\r\n",
      "aspell-autobuildhash: processing: en [en_AU-variant_0].\r\n",
      "aspell-autobuildhash: processing: en [en_AU-variant_1].\r\n",
      "aspell-autobuildhash: processing: en [en_AU-w_accents-only].\r\n",
      "aspell-autobuildhash: processing: en [en_AU-wo_accents-only].\r\n",
      "aspell-autobuildhash: processing: en [en_CA-variant_0].\r\n",
      "aspell-autobuildhash: processing: en [en_CA-variant_1].\r\n",
      "aspell-autobuildhash: processing: en [en_CA-w_accents-only].\r\n",
      "aspell-autobuildhash: processing: en [en_CA-wo_accents-only].\r\n",
      "aspell-autobuildhash: processing: en [en_GB-ise-w_accents-only].\r\n",
      "aspell-autobuildhash: processing: en [en_GB-ise-wo_accents-only].\r\n",
      "aspell-autobuildhash: processing: en [en_GB-ize-w_accents-only].\r\n",
      "aspell-autobuildhash: processing: en [en_GB-ize-wo_accents-only].\r\n",
      "aspell-autobuildhash: processing: en [en_GB-variant_0].\r\n",
      "aspell-autobuildhash: processing: en [en_GB-variant_1].\r\n",
      "aspell-autobuildhash: processing: en [en_US-w_accents-only].\r\n",
      "aspell-autobuildhash: processing: en [en_US-wo_accents-only].\r\n",
      "\r\n",
      "\u001b7\u001b[0;24r\u001b8\u001b[1A\u001b[J"
     ]
    }
   ],
   "source": [
    "!apt update && apt install -y enchant libenchant1c2a hunspell hunspell-en-us libhunspell-1.6-0"
   ]
  },
  {
   "cell_type": "code",
   "execution_count": 4,
   "metadata": {
    "_cell_guid": "b1076dfc-b9ad-4769-8c92-a6c4dae69d19",
    "_uuid": "8f2839f25d086af736a60e9eeb907d3b93b6e0e5"
   },
   "outputs": [],
   "source": [
    "import re\n",
    "import os\n",
    "import random\n",
    "\n",
    "import numpy as np\n",
    "import pandas as pd\n",
    "import sklearn\n",
    "import matplotlib\n",
    "import matplotlib.pyplot as plt\n",
    "import seaborn as sns\n",
    "import nltk\n",
    "import enchant\n",
    "import lightgbm as lgbm"
   ]
  },
  {
   "cell_type": "code",
   "execution_count": 5,
   "metadata": {},
   "outputs": [],
   "source": [
    "!pip freeze > requirements.txt"
   ]
  },
  {
   "cell_type": "code",
   "execution_count": 6,
   "metadata": {
    "_cell_guid": "79c7e3d0-c299-4dcb-8224-4455121ee9b0",
    "_uuid": "d629ff2d2480ee46fbb7e2d37f6b5fab8052498a"
   },
   "outputs": [
    {
     "name": "stdout",
     "output_type": "stream",
     "text": [
      "Numpy version: 1.18.5\n",
      "Pandas version: 1.0.3\n",
      "Scikit-Learn version: 0.23.1\n",
      "Matplotlib version: 3.2.1\n",
      "Seaborn version: 0.10.0\n",
      "NLTK version: 3.2.4\n",
      "LightGBM version: 2.3.1\n"
     ]
    }
   ],
   "source": [
    "print('Numpy version:', np.__version__)\n",
    "print('Pandas version:', pd.__version__)\n",
    "print('Scikit-Learn version:', sklearn.__version__)\n",
    "print('Matplotlib version:', matplotlib.__version__)\n",
    "print('Seaborn version:', sns.__version__)\n",
    "print('NLTK version:', nltk.__version__)\n",
    "print('LightGBM version:', lgbm.__version__)"
   ]
  },
  {
   "cell_type": "code",
   "execution_count": 7,
   "metadata": {},
   "outputs": [],
   "source": [
    "SEED = 42\n",
    "\n",
    "os.environ['PYTHONHASHSEED']=str(SEED)\n",
    "random.seed(SEED)\n",
    "np.random.seed(SEED)"
   ]
  },
  {
   "cell_type": "code",
   "execution_count": 8,
   "metadata": {},
   "outputs": [
    {
     "name": "stdout",
     "output_type": "stream",
     "text": [
      "[nltk_data] Downloading package wordnet to /usr/share/nltk_data...\n",
      "[nltk_data]   Package wordnet is already up-to-date!\n"
     ]
    },
    {
     "data": {
      "text/plain": [
       "True"
      ]
     },
     "execution_count": 8,
     "metadata": {},
     "output_type": "execute_result"
    }
   ],
   "source": [
    "nltk.download('wordnet')"
   ]
  },
  {
   "cell_type": "markdown",
   "execution_count": null,
   "metadata": {},
   "source": [
    "# Dataset"
   ]
  },
  {
   "cell_type": "code",
   "execution_count": 9,
   "metadata": {},
   "outputs": [
    {
     "name": "stdout",
     "output_type": "stream",
     "text": [
      "shopee-review-cleaned  student-shopee-code-league-sentiment-analysis\r\n",
      "shopee-reviews\r\n"
     ]
    }
   ],
   "source": [
    "!ls /kaggle/input"
   ]
  },
  {
   "cell_type": "code",
   "execution_count": 10,
   "metadata": {},
   "outputs": [],
   "source": [
    "X_train = pd.read_parquet('/kaggle/input/shopee-review-cleaned/X_train.parquet', engine='pyarrow')\n",
    "X_train = X_train['X']\n",
    "\n",
    "X_test = pd.read_parquet('/kaggle/input/shopee-review-cleaned/X_test.parquet', engine='pyarrow')\n",
    "X_test = X_test['X']\n",
    "\n",
    "y_train = pd.read_parquet('/kaggle/input/shopee-review-cleaned/y_train.parquet', engine='pyarrow')\n",
    "y_train = y_train['y']"
   ]
  },
  {
   "cell_type": "markdown",
   "execution_count": null,
   "metadata": {},
   "source": [
    "# Class Weight"
   ]
  },
  {
   "cell_type": "code",
   "execution_count": 11,
   "metadata": {},
   "outputs": [
    {
     "name": "stdout",
     "output_type": "stream",
     "text": [
      "[43139, 31781, 85024, 143994, 1345447]\n",
      "1649385\n",
      "[0.7367115603050604, 1.0, 0.3737885773428679, 0.2207105851632707, 0.023621145983453825]\n"
     ]
    }
   ],
   "source": [
    "rating_count = y_train.value_counts().sort_index().to_list()\n",
    "total_rating = sum(rating_count)\n",
    "lowest_rating_count = min(rating_count)\n",
    "rating_weight = [lowest_rating_count/rc for rc in rating_count]\n",
    "\n",
    "print(rating_count)\n",
    "print(total_rating)\n",
    "print(rating_weight)"
   ]
  },
  {
   "cell_type": "code",
   "execution_count": 12,
   "metadata": {},
   "outputs": [],
   "source": [
    "rating_weight_dict = {\n",
    "    1: rating_weight[0],\n",
    "    2: rating_weight[1],\n",
    "    3: rating_weight[2],\n",
    "    4: rating_weight[3],\n",
    "    5: rating_weight[4],\n",
    "}"
   ]
  },
  {
   "cell_type": "markdown",
   "execution_count": null,
   "metadata": {},
   "source": [
    "# Word representation"
   ]
  },
  {
   "cell_type": "code",
   "execution_count": 13,
   "metadata": {},
   "outputs": [],
   "source": [
    "from sklearn.feature_extraction.text import TfidfVectorizer\n",
    "\n",
    "vectorizer = TfidfVectorizer(lowercase=False, ngram_range=(1,3), analyzer=lambda t:t, min_df=10, sublinear_tf=True)\n",
    "\n",
    "X_train = vectorizer.fit_transform(X_train)\n",
    "X_test = vectorizer.transform(X_test)"
   ]
  },
  {
   "cell_type": "code",
   "execution_count": 14,
   "metadata": {},
   "outputs": [
    {
     "name": "stdout",
     "output_type": "stream",
     "text": [
      "(1649385, 18651)\n",
      "(60427, 18651)\n"
     ]
    }
   ],
   "source": [
    "print(X_train.shape)\n",
    "print(X_test.shape)"
   ]
  },
  {
   "cell_type": "markdown",
   "execution_count": null,
   "metadata": {},
   "source": [
    "# Model functions"
   ]
  },
  {
   "cell_type": "code",
   "execution_count": 15,
   "metadata": {},
   "outputs": [],
   "source": [
    "from sklearn.metrics import classification_report, f1_score, confusion_matrix\n",
    "\n",
    "def predict(model, X, tweak_proba=False):\n",
    "    if tweak_proba:\n",
    "        y = model.predict_proba(X)\n",
    "\n",
    "        for i in range(len(y)):\n",
    "            y[i, 0] = y[i, 0] * 1.05 # rating 1\n",
    "#             y[i, 1] = y[i, 1] * 1.0 # rating 1\n",
    "#             y[i, 2] = y[i, 2] * 1.0 # rating 1\n",
    "            y[i, 3] = y[i, 3] * 1.30  # rating 4\n",
    "            y[i, 4] = y[i, 4] * 1.30  # rating 5\n",
    "\n",
    "        # +1 because np.argmax range is 0-4, not 1-5\n",
    "        y = np.argmax(y, axis=1)\n",
    "        for i in range(len(y)):\n",
    "            y[i] = y[i] + 1\n",
    "    else:\n",
    "        y = model.predict(X)\n",
    "    return y\n",
    "\n",
    "def metrics(y_true, y_pred):\n",
    "    print('F1 Score :', f1_score(y_true, y_pred, average='macro'))\n",
    "    print(classification_report(y_true, y_pred))\n",
    "\n",
    "    cm = confusion_matrix(y_true, y_pred)\n",
    "    cm = pd.DataFrame(cm, range(1, 6), range(1, 6))\n",
    "\n",
    "    sns.heatmap(cm, annot=True, cmap=\"YlGnBu\", fmt=\"d\")\n",
    "    plt.show()"
   ]
  },
  {
   "cell_type": "markdown",
   "execution_count": null,
   "metadata": {},
   "source": [
    "# LightGBM"
   ]
  },
  {
   "cell_type": "code",
   "execution_count": 16,
   "metadata": {},
   "outputs": [
    {
     "name": "stdout",
     "output_type": "stream",
     "text": [
      "4188\n"
     ]
    }
   ],
   "source": [
    "from datetime import datetime\n",
    "\n",
    "model = lgbm.LGBMClassifier(\n",
    "    n_estimators=150,\n",
    "    class_weight=rating_weight_dict,\n",
    "    boosting_type='dart',\n",
    "    max_bin=1023,\n",
    "    max_depth=0,\n",
    "    num_leaves=255,\n",
    "    learning_rate=0.03,\n",
    "    extra_trees=True,\n",
    "    feature_fraction=0.8\n",
    ")\n",
    "\n",
    "START_TIME = datetime.now()\n",
    "model.fit(X_train, y_train, verbose=3)\n",
    "END_TIME = datetime.now()\n",
    "\n",
    "print((END_TIME - START_TIME).seconds)"
   ]
  },
  {
   "cell_type": "code",
   "execution_count": 17,
   "metadata": {},
   "outputs": [
    {
     "name": "stdout",
     "output_type": "stream",
     "text": [
      "F1 Score : 0.4145867973015875\n",
      "              precision    recall  f1-score   support\n",
      "\n",
      "           1       0.28      0.74      0.41     43139\n",
      "           2       0.14      0.47      0.21     31781\n",
      "           3       0.30      0.36      0.33     85024\n",
      "           4       0.22      0.45      0.30    143994\n",
      "           5       0.96      0.73      0.83   1345447\n",
      "\n",
      "    accuracy                           0.68   1649385\n",
      "   macro avg       0.38      0.55      0.41   1649385\n",
      "weighted avg       0.82      0.68      0.73   1649385\n",
      "\n"
     ]
    },
    {
     "data": {
      "image/png": "[encoded data removed]",
      "text/plain": [
       "<Figure size 432x288 with 2 Axes>"
      ]
     },
     "metadata": {
      "needs_background": "light"
     },
     "output_type": "display_data"
    }
   ],
   "source": [
    "y_train_pred = predict(model, X_train)\n",
    "metrics(y_train, y_train_pred)"
   ]
  },
  {
   "cell_type": "code",
   "execution_count": 18,
   "metadata": {},
   "outputs": [
    {
     "name": "stdout",
     "output_type": "stream",
     "text": [
      "F1 Score : 0.4257627262439847\n",
      "              precision    recall  f1-score   support\n",
      "\n",
      "           1       0.31      0.74      0.43     43139\n",
      "           2       0.18      0.37      0.24     31781\n",
      "           3       0.53      0.22      0.31     85024\n",
      "           4       0.21      0.59      0.31    143994\n",
      "           5       0.95      0.74      0.83   1345447\n",
      "\n",
      "    accuracy                           0.69   1649385\n",
      "   macro avg       0.44      0.53      0.43   1649385\n",
      "weighted avg       0.83      0.69      0.74   1649385\n",
      "\n"
     ]
    },
    {
     "data": {
      "image/png": "[encoded data removed]",
      "text/plain": [
       "<Figure size 432x288 with 2 Axes>"
      ]
     },
     "metadata": {
      "needs_background": "light"
     },
     "output_type": "display_data"
    }
   ],
   "source": [
    "y_train_pred2 = predict(model, X_train, tweak_proba=True)\n",
    "metrics(y_train, y_train_pred2)"
   ]
  },
  {
   "cell_type": "code",
   "execution_count": 19,
   "metadata": {},
   "outputs": [
    {
     "data": {
      "text/html": [
       "<div>\n",
       "<style scoped>\n",
       "    .dataframe tbody tr th:only-of-type {\n",
       "        vertical-align: middle;\n",
       "    }\n",
       "\n",
       "    .dataframe tbody tr th {\n",
       "        vertical-align: top;\n",
       "    }\n",
       "\n",
       "    .dataframe thead th {\n",
       "        text-align: right;\n",
       "    }\n",
       "</style>\n",
       "<table border=\"1\" class=\"dataframe\">\n",
       "  <thead>\n",
       "    <tr style=\"text-align: right;\">\n",
       "      <th></th>\n",
       "      <th>review_id</th>\n",
       "      <th>rating</th>\n",
       "    </tr>\n",
       "  </thead>\n",
       "  <tbody>\n",
       "    <tr>\n",
       "      <th>0</th>\n",
       "      <td>1</td>\n",
       "      <td>3</td>\n",
       "    </tr>\n",
       "    <tr>\n",
       "      <th>1</th>\n",
       "      <td>2</td>\n",
       "      <td>3</td>\n",
       "    </tr>\n",
       "    <tr>\n",
       "      <th>2</th>\n",
       "      <td>3</td>\n",
       "      <td>2</td>\n",
       "    </tr>\n",
       "    <tr>\n",
       "      <th>3</th>\n",
       "      <td>4</td>\n",
       "      <td>5</td>\n",
       "    </tr>\n",
       "    <tr>\n",
       "      <th>4</th>\n",
       "      <td>5</td>\n",
       "      <td>5</td>\n",
       "    </tr>\n",
       "    <tr>\n",
       "      <th>...</th>\n",
       "      <td>...</td>\n",
       "      <td>...</td>\n",
       "    </tr>\n",
       "    <tr>\n",
       "      <th>60422</th>\n",
       "      <td>60423</td>\n",
       "      <td>4</td>\n",
       "    </tr>\n",
       "    <tr>\n",
       "      <th>60423</th>\n",
       "      <td>60424</td>\n",
       "      <td>1</td>\n",
       "    </tr>\n",
       "    <tr>\n",
       "      <th>60424</th>\n",
       "      <td>60425</td>\n",
       "      <td>4</td>\n",
       "    </tr>\n",
       "    <tr>\n",
       "      <th>60425</th>\n",
       "      <td>60426</td>\n",
       "      <td>5</td>\n",
       "    </tr>\n",
       "    <tr>\n",
       "      <th>60426</th>\n",
       "      <td>60427</td>\n",
       "      <td>3</td>\n",
       "    </tr>\n",
       "  </tbody>\n",
       "</table>\n",
       "<p>60427 rows × 2 columns</p>\n",
       "</div>"
      ],
      "text/plain": [
       "       review_id  rating\n",
       "0              1       3\n",
       "1              2       3\n",
       "2              3       2\n",
       "3              4       5\n",
       "4              5       5\n",
       "...          ...     ...\n",
       "60422      60423       4\n",
       "60423      60424       1\n",
       "60424      60425       4\n",
       "60425      60426       5\n",
       "60426      60427       3\n",
       "\n",
       "[60427 rows x 2 columns]"
      ]
     },
     "execution_count": 19,
     "metadata": {},
     "output_type": "execute_result"
    }
   ],
   "source": [
    "y_test_pred = predict(model, X_test)\n",
    "\n",
    "df_submission = pd.concat([pd.Series(list(range(1,60428)), name='review_id', dtype=np.int32), pd.Series(y_test_pred, name='rating')], axis=1)\n",
    "df_submission.to_csv('submission.csv', index=False)\n",
    "\n",
    "df_submission"
   ]
  },
  {
   "cell_type": "code",
   "execution_count": 20,
   "metadata": {},
   "outputs": [
    {
     "data": {
      "text/html": [
       "<div>\n",
       "<style scoped>\n",
       "    .dataframe tbody tr th:only-of-type {\n",
       "        vertical-align: middle;\n",
       "    }\n",
       "\n",
       "    .dataframe tbody tr th {\n",
       "        vertical-align: top;\n",
       "    }\n",
       "\n",
       "    .dataframe thead th {\n",
       "        text-align: right;\n",
       "    }\n",
       "</style>\n",
       "<table border=\"1\" class=\"dataframe\">\n",
       "  <thead>\n",
       "    <tr style=\"text-align: right;\">\n",
       "      <th></th>\n",
       "      <th>review_id</th>\n",
       "      <th>rating</th>\n",
       "    </tr>\n",
       "  </thead>\n",
       "  <tbody>\n",
       "    <tr>\n",
       "      <th>0</th>\n",
       "      <td>1</td>\n",
       "      <td>3</td>\n",
       "    </tr>\n",
       "    <tr>\n",
       "      <th>1</th>\n",
       "      <td>2</td>\n",
       "      <td>5</td>\n",
       "    </tr>\n",
       "    <tr>\n",
       "      <th>2</th>\n",
       "      <td>3</td>\n",
       "      <td>4</td>\n",
       "    </tr>\n",
       "    <tr>\n",
       "      <th>3</th>\n",
       "      <td>4</td>\n",
       "      <td>5</td>\n",
       "    </tr>\n",
       "    <tr>\n",
       "      <th>4</th>\n",
       "      <td>5</td>\n",
       "      <td>5</td>\n",
       "    </tr>\n",
       "    <tr>\n",
       "      <th>...</th>\n",
       "      <td>...</td>\n",
       "      <td>...</td>\n",
       "    </tr>\n",
       "    <tr>\n",
       "      <th>60422</th>\n",
       "      <td>60423</td>\n",
       "      <td>4</td>\n",
       "    </tr>\n",
       "    <tr>\n",
       "      <th>60423</th>\n",
       "      <td>60424</td>\n",
       "      <td>1</td>\n",
       "    </tr>\n",
       "    <tr>\n",
       "      <th>60424</th>\n",
       "      <td>60425</td>\n",
       "      <td>4</td>\n",
       "    </tr>\n",
       "    <tr>\n",
       "      <th>60425</th>\n",
       "      <td>60426</td>\n",
       "      <td>5</td>\n",
       "    </tr>\n",
       "    <tr>\n",
       "      <th>60426</th>\n",
       "      <td>60427</td>\n",
       "      <td>4</td>\n",
       "    </tr>\n",
       "  </tbody>\n",
       "</table>\n",
       "<p>60427 rows × 2 columns</p>\n",
       "</div>"
      ],
      "text/plain": [
       "       review_id  rating\n",
       "0              1       3\n",
       "1              2       5\n",
       "2              3       4\n",
       "3              4       5\n",
       "4              5       5\n",
       "...          ...     ...\n",
       "60422      60423       4\n",
       "60423      60424       1\n",
       "60424      60425       4\n",
       "60425      60426       5\n",
       "60426      60427       4\n",
       "\n",
       "[60427 rows x 2 columns]"
      ]
     },
     "execution_count": 20,
     "metadata": {},
     "output_type": "execute_result"
    }
   ],
   "source": [
    "y_test_pred2 = predict(model, X_test, tweak_proba=True)\n",
    "\n",
    "df_submission2 = pd.concat([pd.Series(list(range(1,60428)), name='review_id', dtype=np.int32), pd.Series(y_test_pred2, name='rating')], axis=1)\n",
    "df_submission2.to_csv('submission_tweak_proba.csv', index=False)\n",
    "\n",
    "df_submission2"
   ]
  }
 ],
 "metadata": {
  "kernelspec": {
   "display_name": "Python 3",
   "language": "python",
   "name": "python3"
  },
  "language_info": {
   "codemirror_mode": {
    "name": "ipython",
    "version": 3
   },
   "file_extension": ".py",
   "mimetype": "text/x-python",
   "name": "python",
   "nbconvert_exporter": "python",
   "pygments_lexer": "ipython3",
   "version": "3.7.6"
  }
 },
 "nbformat": 4,
 "nbformat_minor": 4
}
