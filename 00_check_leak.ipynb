{
 "cells": [
  {
   "cell_type": "markdown",
   "execution_count": null,
   "metadata": {},
   "source": [
    "## Check leak on external data\n",
    "\n",
    "List of external data checked :\n",
    "* https://www.kaggle.com/shymammoth/shopee-reviews"
   ]
  },
  {
   "cell_type": "markdown",
   "execution_count": null,
   "metadata": {},
   "source": [
    "# Library"
   ]
  },
  {
   "cell_type": "code",
   "execution_count": 1,
   "metadata": {},
   "outputs": [
    {
     "name": "stdout",
     "output_type": "stream",
     "text": [
      "Collecting jellyfish\r\n",
      "  Downloading jellyfish-0.8.2-cp37-cp37m-manylinux2014_x86_64.whl (90 kB)\r\n",
      "\u001b[K     |████████████████████████████████| 90 kB 1.8 MB/s \r\n",
      "\u001b[?25hInstalling collected packages: jellyfish\r\n",
      "Successfully installed jellyfish-0.8.2\r\n",
      "\u001b[33mWARNING: You are using pip version 20.1.1; however, version 20.2 is available.\r\n",
      "You should consider upgrading via the '/opt/conda/bin/python3.7 -m pip install --upgrade pip' command.\u001b[0m\r\n"
     ]
    }
   ],
   "source": [
    "!pip install jellyfish"
   ]
  },
  {
   "cell_type": "code",
   "execution_count": 2,
   "metadata": {
    "_cell_guid": "b1076dfc-b9ad-4769-8c92-a6c4dae69d19",
    "_uuid": "8f2839f25d086af736a60e9eeb907d3b93b6e0e5"
   },
   "outputs": [],
   "source": [
    "import numpy as np\n",
    "import pandas as pd\n",
    "import jellyfish"
   ]
  },
  {
   "cell_type": "markdown",
   "execution_count": null,
   "metadata": {},
   "source": [
    "# Dataset"
   ]
  },
  {
   "cell_type": "code",
   "execution_count": 3,
   "metadata": {},
   "outputs": [
    {
     "name": "stdout",
     "output_type": "stream",
     "text": [
      "shopee-reviews\tstudent-shopee-code-league-sentiment-analysis\r\n"
     ]
    }
   ],
   "source": [
    "!ls /kaggle/input"
   ]
  },
  {
   "cell_type": "code",
   "execution_count": 4,
   "metadata": {
    "_cell_guid": "79c7e3d0-c299-4dcb-8224-4455121ee9b0",
    "_uuid": "d629ff2d2480ee46fbb7e2d37f6b5fab8052498a"
   },
   "outputs": [
    {
     "data": {
      "text/html": [
       "<div>\n",
       "<style scoped>\n",
       "    .dataframe tbody tr th:only-of-type {\n",
       "        vertical-align: middle;\n",
       "    }\n",
       "\n",
       "    .dataframe tbody tr th {\n",
       "        vertical-align: top;\n",
       "    }\n",
       "\n",
       "    .dataframe thead th {\n",
       "        text-align: right;\n",
       "    }\n",
       "</style>\n",
       "<table border=\"1\" class=\"dataframe\">\n",
       "  <thead>\n",
       "    <tr style=\"text-align: right;\">\n",
       "      <th></th>\n",
       "      <th>review_id</th>\n",
       "      <th>review</th>\n",
       "    </tr>\n",
       "  </thead>\n",
       "  <tbody>\n",
       "    <tr>\n",
       "      <th>0</th>\n",
       "      <td>1</td>\n",
       "      <td>Great danger, cool, motif and cantik2 jg model...</td>\n",
       "    </tr>\n",
       "    <tr>\n",
       "      <th>1</th>\n",
       "      <td>2</td>\n",
       "      <td>One of the shades don't fit well</td>\n",
       "    </tr>\n",
       "    <tr>\n",
       "      <th>2</th>\n",
       "      <td>3</td>\n",
       "      <td>Very comfortable</td>\n",
       "    </tr>\n",
       "    <tr>\n",
       "      <th>3</th>\n",
       "      <td>4</td>\n",
       "      <td>Fast delivery. Product expiry is on Dec 2022. ...</td>\n",
       "    </tr>\n",
       "    <tr>\n",
       "      <th>4</th>\n",
       "      <td>5</td>\n",
       "      <td>it's sooooo cute! i like playing with the glit...</td>\n",
       "    </tr>\n",
       "    <tr>\n",
       "      <th>...</th>\n",
       "      <td>...</td>\n",
       "      <td>...</td>\n",
       "    </tr>\n",
       "    <tr>\n",
       "      <th>60422</th>\n",
       "      <td>60423</td>\n",
       "      <td>Product has been succesfully ordered and shipp...</td>\n",
       "    </tr>\n",
       "    <tr>\n",
       "      <th>60423</th>\n",
       "      <td>60424</td>\n",
       "      <td>Opening time a little scared. Fear dalemnya de...</td>\n",
       "    </tr>\n",
       "    <tr>\n",
       "      <th>60424</th>\n",
       "      <td>60425</td>\n",
       "      <td>The product quality is excellent. The origina...</td>\n",
       "    </tr>\n",
       "    <tr>\n",
       "      <th>60425</th>\n",
       "      <td>60426</td>\n",
       "      <td>They 're holding up REALLY well also .</td>\n",
       "    </tr>\n",
       "    <tr>\n",
       "      <th>60426</th>\n",
       "      <td>60427</td>\n",
       "      <td>Rapid response and detail ...\\nThanks gan, the...</td>\n",
       "    </tr>\n",
       "  </tbody>\n",
       "</table>\n",
       "<p>60427 rows × 2 columns</p>\n",
       "</div>"
      ],
      "text/plain": [
       "       review_id                                             review\n",
       "0              1  Great danger, cool, motif and cantik2 jg model...\n",
       "1              2                   One of the shades don't fit well\n",
       "2              3                                   Very comfortable\n",
       "3              4  Fast delivery. Product expiry is on Dec 2022. ...\n",
       "4              5  it's sooooo cute! i like playing with the glit...\n",
       "...          ...                                                ...\n",
       "60422      60423  Product has been succesfully ordered and shipp...\n",
       "60423      60424  Opening time a little scared. Fear dalemnya de...\n",
       "60424      60425   The product quality is excellent. The origina...\n",
       "60425      60426             They 're holding up REALLY well also .\n",
       "60426      60427  Rapid response and detail ...\\nThanks gan, the...\n",
       "\n",
       "[60427 rows x 2 columns]"
      ]
     },
     "execution_count": 4,
     "metadata": {},
     "output_type": "execute_result"
    }
   ],
   "source": [
    "df_test = pd.read_csv('/kaggle/input/student-shopee-code-league-sentiment-analysis/test.csv')\n",
    "df_test"
   ]
  },
  {
   "cell_type": "code",
   "execution_count": 5,
   "metadata": {},
   "outputs": [
    {
     "name": "stderr",
     "output_type": "stream",
     "text": [
      "/opt/conda/lib/python3.7/site-packages/IPython/core/interactiveshell.py:3063: DtypeWarning: Columns (0) have mixed types.Specify dtype option on import or set low_memory=False.\n",
      "  interactivity=interactivity, compiler=compiler, result=result)\n"
     ]
    },
    {
     "data": {
      "text/html": [
       "<div>\n",
       "<style scoped>\n",
       "    .dataframe tbody tr th:only-of-type {\n",
       "        vertical-align: middle;\n",
       "    }\n",
       "\n",
       "    .dataframe tbody tr th {\n",
       "        vertical-align: top;\n",
       "    }\n",
       "\n",
       "    .dataframe thead th {\n",
       "        text-align: right;\n",
       "    }\n",
       "</style>\n",
       "<table border=\"1\" class=\"dataframe\">\n",
       "  <thead>\n",
       "    <tr style=\"text-align: right;\">\n",
       "      <th></th>\n",
       "      <th>label</th>\n",
       "      <th>text</th>\n",
       "    </tr>\n",
       "  </thead>\n",
       "  <tbody>\n",
       "    <tr>\n",
       "      <th>0</th>\n",
       "      <td>5</td>\n",
       "      <td>Looks ok. Not like so durable. Will hv to use ...</td>\n",
       "    </tr>\n",
       "    <tr>\n",
       "      <th>1</th>\n",
       "      <td>5</td>\n",
       "      <td>Tried, the current can be very powerful depend...</td>\n",
       "    </tr>\n",
       "    <tr>\n",
       "      <th>2</th>\n",
       "      <td>5</td>\n",
       "      <td>Item received after a week. Looks smaller than...</td>\n",
       "    </tr>\n",
       "    <tr>\n",
       "      <th>3</th>\n",
       "      <td>5</td>\n",
       "      <td>Thanks!!! Works as describe no complaints. Not...</td>\n",
       "    </tr>\n",
       "    <tr>\n",
       "      <th>4</th>\n",
       "      <td>5</td>\n",
       "      <td>Fast delivery considering it’s from overseas a...</td>\n",
       "    </tr>\n",
       "    <tr>\n",
       "      <th>...</th>\n",
       "      <td>...</td>\n",
       "      <td>...</td>\n",
       "    </tr>\n",
       "    <tr>\n",
       "      <th>1502570</th>\n",
       "      <td>5</td>\n",
       "      <td>Tried and it fit nicely will buy \\nFast and go...</td>\n",
       "    </tr>\n",
       "    <tr>\n",
       "      <th>1502571</th>\n",
       "      <td>5</td>\n",
       "      <td>It's a fantastic product. Very reasonable pric...</td>\n",
       "    </tr>\n",
       "    <tr>\n",
       "      <th>1502572</th>\n",
       "      <td>5</td>\n",
       "      <td>Nice pair of shoes for a gd price. Note the cu...</td>\n",
       "    </tr>\n",
       "    <tr>\n",
       "      <th>1502573</th>\n",
       "      <td>1</td>\n",
       "      <td>Leather?   Rubbish....moulded plastic. What a ...</td>\n",
       "    </tr>\n",
       "    <tr>\n",
       "      <th>1502574</th>\n",
       "      <td>3</td>\n",
       "      <td>Your size 41 smaller than normal, more like si...</td>\n",
       "    </tr>\n",
       "  </tbody>\n",
       "</table>\n",
       "<p>1502575 rows × 2 columns</p>\n",
       "</div>"
      ],
      "text/plain": [
       "        label                                               text\n",
       "0           5  Looks ok. Not like so durable. Will hv to use ...\n",
       "1           5  Tried, the current can be very powerful depend...\n",
       "2           5  Item received after a week. Looks smaller than...\n",
       "3           5  Thanks!!! Works as describe no complaints. Not...\n",
       "4           5  Fast delivery considering it’s from overseas a...\n",
       "...       ...                                                ...\n",
       "1502570     5  Tried and it fit nicely will buy \\nFast and go...\n",
       "1502571     5  It's a fantastic product. Very reasonable pric...\n",
       "1502572     5  Nice pair of shoes for a gd price. Note the cu...\n",
       "1502573     1  Leather?   Rubbish....moulded plastic. What a ...\n",
       "1502574     3  Your size 41 smaller than normal, more like si...\n",
       "\n",
       "[1502575 rows x 2 columns]"
      ]
     },
     "execution_count": 5,
     "metadata": {},
     "output_type": "execute_result"
    }
   ],
   "source": [
    "df_train_ext = pd.read_csv('/kaggle/input/shopee-reviews/shopee_reviews.csv')\n",
    "df_train_ext"
   ]
  },
  {
   "cell_type": "markdown",
   "execution_count": null,
   "metadata": {},
   "source": [
    "# Exact match"
   ]
  },
  {
   "cell_type": "code",
   "execution_count": 6,
   "metadata": {},
   "outputs": [],
   "source": [
    "set_test = set()\n",
    "for i in df_test.index:\n",
    "    set_test.add(df_test.loc[i, 'review'])"
   ]
  },
  {
   "cell_type": "code",
   "execution_count": 7,
   "metadata": {},
   "outputs": [],
   "source": [
    "list_exact_match = []\n",
    "for i in df_train_ext.index:\n",
    "    if df_train_ext.loc[i, 'text'] in set_test:\n",
    "        list_exact_match.append(df_train_ext.loc[i, 'text'])"
   ]
  },
  {
   "cell_type": "code",
   "execution_count": 8,
   "metadata": {},
   "outputs": [
    {
     "data": {
      "text/plain": [
       "259"
      ]
     },
     "execution_count": 8,
     "metadata": {},
     "output_type": "execute_result"
    }
   ],
   "source": [
    "len(list_exact_match)"
   ]
  },
  {
   "cell_type": "code",
   "execution_count": 9,
   "metadata": {},
   "outputs": [
    {
     "data": {
      "text/plain": [
       "['Good product 👍',\n",
       " 'Good quality',\n",
       " 'very comfortable',\n",
       " 'Great quality',\n",
       " 'Value for money',\n",
       " 'Very nice and comfortable',\n",
       " 'Very comfortable',\n",
       " 'Very light',\n",
       " 'Worth the purchase',\n",
       " 'good for the price',\n",
       " 'Very cute',\n",
       " 'Highly recommended',\n",
       " 'Ok for the price',\n",
       " 'Awesome product',\n",
       " 'great product fast delivery',\n",
       " 'awesome',\n",
       " 'Worth the money',\n",
       " 'Comfortable and true to size',\n",
       " 'Worth to buy',\n",
       " 'Will buy again',\n",
       " 'Fast delivery .',\n",
       " 'Perfect fit',\n",
       " 'Easy to use',\n",
       " 'Excellent quality, Very accommodating seller, Well-packaged, Item shipped immediately, Will order again',\n",
       " 'cute',\n",
       " 'Feels good',\n",
       " 'Great Quality',\n",
       " 'good quality .',\n",
       " 'Very comfy',\n",
       " 'Comfortable and good quality',\n",
       " 'Nice and comfortable',\n",
       " 'Fits small',\n",
       " 'Good quality .',\n",
       " 'Good fit and comfortable',\n",
       " 'Item rcvd in good order.',\n",
       " 'Good quality item',\n",
       " 'Good good good good good good good good good good good good good good good good',\n",
       " 'Good looking',\n",
       " 'Good good good',\n",
       " 'Good price',\n",
       " 'Delivered on time',\n",
       " 'Lovely colour',\n",
       " 'Better than expected',\n",
       " 'Mini size',\n",
       " 'Great price,, satusfy with the product, my boy loves it, good buy',\n",
       " 'my son love it',\n",
       " 'Fast and quick delivery. Cute characters and good variety of different designs',\n",
       " 'Good good good good good good good good good good good good good good',\n",
       " 'Super small',\n",
       " 'As ordered',\n",
       " 'Item was bubbled wrapped nicely. Item received true to photo. My child likes it a lot. Will buy again if good.',\n",
       " 'Great support',\n",
       " 'Highly recommend',\n",
       " 'Thanks for the free gift!',\n",
       " 'Too big',\n",
       " 'Good product quality!',\n",
       " 'Received it in good condition.',\n",
       " 'Good. Thanks',\n",
       " 'Too thin..',\n",
       " 'Looks great',\n",
       " 'fast delivery, good service, product is good and good function. will buy again',\n",
       " 'Item received in the mail.\\nYet to apply it to test. Hope it is useful!',\n",
       " 'quick delivery',\n",
       " 'Definitely will buy again',\n",
       " 'Love it thank you',\n",
       " 'Awesome for the price',\n",
       " 'Fits great',\n",
       " 'Good product. Super good seller. Cheap and good quality. Well recommended. 5 stars for you',\n",
       " 'very nice product',\n",
       " 'A bit heavy',\n",
       " '2nd time buying again :) thanks for the free keychain . Worth the price  :)))',\n",
       " 'Really nice',\n",
       " 'Item received as shown in the picture and the quality is good. Elastic and stretchable. Definitely worth the money. Besides that, the delivery is fast. I will definitely buy again! ',\n",
       " 'Order received in good condition, come with box, thank you very much.',\n",
       " 'i love it!!',\n",
       " 'Comfortable and lightweight',\n",
       " 'Nice item!',\n",
       " 'Item came and looked good! Delivery was very fast and prompt! Would recommend!\\n',\n",
       " 'Very nice design',\n",
       " 'Good value for money.',\n",
       " 'Fast top up',\n",
       " 'Will purchase again',\n",
       " 'Look great',\n",
       " \"Well received in good condition with thanks, trying out to see if it's good\",\n",
       " 'Never expected to receive the items so fast. And the products quality look good. See as the attached pic, the products are true to the pics. Seller are responsive to the queries and friendly too. I will definitely restock the products again in the future. Will recommend my friends too.',\n",
       " 'Items received well and well packaged. Delivery is so fast. I will order again.',\n",
       " 'Fast delivery. Tq',\n",
       " 'Great price',\n",
       " 'Quality not bad, but yet to try out. Delivery a bit long, took more than a week from date of order.',\n",
       " 'Thanks for the gift 😊',\n",
       " 'Good and comfortable',\n",
       " 'Very good and nice',\n",
       " 'the bag is of good quality for the price!! also came with a freebie, thanks :)',\n",
       " 'A little bulky',\n",
       " 'Okay for the price',\n",
       " 'Looks great feels great',\n",
       " 'Nicely wrapped, comes with a bbq plate. Pot size is good for 1 -2 pax steamboat. Delivery period is acceptable, given now is during the circuit breaker period.\\xa0',\n",
       " 'Not bad for the price .',\n",
       " 'Very happy',\n",
       " 'great seller',\n",
       " 'very very good',\n",
       " 'nice looking',\n",
       " 'Can’t wait to use these! Been waiting for it~ smells super strong even before lighting them up',\n",
       " 'Ordered 10pcs of each colour and thought it was excessive. But upon receipt, am very happy with the buy. Will buy again. ',\n",
       " 'Fast delivery. The packing can prevent the shield to be folded. It look cute when my child wear it.',\n",
       " 'Exactly what I wanted',\n",
       " 'Awesome!! Love the lights! Highly recommend, seller was also very helpful to promptly answer my queries ',\n",
       " 'Nice not bad',\n",
       " 'No complaints',\n",
       " 'Ok for its price.',\n",
       " 'Grip is good',\n",
       " 'Good value .',\n",
       " '4 working days to reach me through normal postage. Love the pens, good for basic beginner caligraphy. Some of the pens wrote “brush sign pen” some is in Japanese with the word “touch”. Normal postage would suggest to owner that you can print the address and name out instead of writing it. ',\n",
       " 'Loved them',\n",
       " 'smell is not strong need to put alot of the oil',\n",
       " 'perfect size',\n",
       " 'Fast and prompt delivery and good quality! The item well received as per seller description! Thank you!',\n",
       " \"Delivery is fast. Haven't use yet. Hope the quality is the same as the original.\",\n",
       " 'Good quality and fast delivery! Am a new customer but will buy again in future.\\xa0',\n",
       " 'Great product. Fast delivery.',\n",
       " 'Quality is great',\n",
       " 'Love this product',\n",
       " 'Totally love it',\n",
       " 'nice color',\n",
       " 'Parcel arrive quickly. Yet to try but will review again after trying.',\n",
       " 'Would buy again',\n",
       " 'Loved it .',\n",
       " 'Thank you💕',\n",
       " 'The item was good. The packaging was ever so nice. Delivery was immensely quick. Item was first-rate quality.',\n",
       " 'Omg I love it',\n",
       " 'Thank you👍👍👍',\n",
       " 'Received in good condition . Looks good and tough and not yet use. :)',\n",
       " '***Buyer’s review has been hidden due to inappropriate content.***',\n",
       " 'Very recommended',\n",
       " 'All items received in good condition. Thank you for the 2 boxes free mask. Mask expiry in 2022.',\n",
       " 'Delivery was prompt',\n",
       " 'Highly Recommended',\n",
       " 'Orders received very fast within a week, well pack in a carton and received all in good condition. Thanks seller!',\n",
       " 'I will order again!',\n",
       " 'Ordered both duck and chicken. Price is ok for duck but not worth for the chicken. NTUC is cheaper for frozen food.\\xa0',\n",
       " 'high quality',\n",
       " \"Shipping unfortunately took 1.5 weeks but it didn't deter from a good rating from the products. Reasonably priced!\",\n",
       " 'Great for its price',\n",
       " 'Works as per description. Comes in good packaging. No damages in shipping. Fast delivery',\n",
       " 'Good good good good good good good good good good good good good good good good good good good good good good good good good good good good good good good good good good good good good good good',\n",
       " 'Delivery took about 1 week plus, pasting is easy, but the first glass broke within a day of use, it seems to be quite fragile. i’m putting on the 2nd piece. luckily bought 2.',\n",
       " 'It’s not the flowing glitter type but I still do like it. The delivery was fast too considering now.\\xa0',\n",
       " 'bass is not bad, volume is also not bad, however if wan use outdoor, cant really hear\\xa0',\n",
       " 'really nice and good quality airpod case , not bad , worth the buy',\n",
       " 'Fits like a glove',\n",
       " 'Very nice .',\n",
       " 'Very expensive',\n",
       " 'Excellent and comfortable',\n",
       " 'Ordered on 6Jun & received on 15Jun (9 days) so actually took quite long. received in good quality all packaged together, feels like normal cotton, generally q comfortable. defo not uniqlo quality la but for the price, it’s a good buy ',\n",
       " 'Cute and comfortable',\n",
       " 'Really comfortable',\n",
       " 'Deliver fast',\n",
       " 'Never expect receive items so fast, items comfortable & make my tummy look flat happy with the product 👍😊',\n",
       " 'Cute socks',\n",
       " 'Not a good fit',\n",
       " 'This is a very stretchable material. My hip is about 96cm I can fit in it. Quality is consider worth for the price. I think if your hip is slightly bigger than mine you still can fit it in.\\xa0',\n",
       " 'Love the color',\n",
       " 'It’s $5 for a sports bra. It cannot get better than that. The quality is sufficient,(not great). Favourite feature is able to unhook the back',\n",
       " 'Fit perfect',\n",
       " 'super comfortable',\n",
       " 'Comfortable and fits well',\n",
       " 'Size not accurate',\n",
       " 'Very comfortable to wear',\n",
       " 'Nice shoes',\n",
       " 'Very soft and comfortable',\n",
       " 'Great shoes',\n",
       " 'Nice I love it..',\n",
       " 'Very nice shoes',\n",
       " 'item received in good condition, very comfort and suitable for those heel pain very often.',\n",
       " 'Comfy shoes',\n",
       " 'Superb quality',\n",
       " 'Fits perfect',\n",
       " 'received well packed and good condition. picked up via ninjavan pickup point.',\n",
       " 'Good quality shoe',\n",
       " 'Took the seller quite some time to ship out. Item was alright',\n",
       " 'Light and comfortable',\n",
       " 'Comfortable shoe',\n",
       " 'Very nice fabric',\n",
       " 'Looks good and comfortable',\n",
       " 'Received item promptly',\n",
       " 'Fast respond',\n",
       " 'Bought 2 with bracket version. Both fit well with my switch. Product same as description.',\n",
       " 'Good shoes',\n",
       " 'received .',\n",
       " 'nice shoes',\n",
       " 'Very light and comfortable',\n",
       " 'Comfortable shoes',\n",
       " 'working great',\n",
       " 'Good for running',\n",
       " 'Good one good one good one\\xa0Good one good one good one\\xa0Good one good one good one\\xa0Good one good one good one\\xa0',\n",
       " \"Received with thanks. Glad to be able to buy it because it's almost sold out everywhere.\",\n",
       " 'Thank you .',\n",
       " 'Prompt delivery bought during sales so kinda worth it, have not try yet but Read a lot of good reviews. Will buy again if good',\n",
       " 'Item received in good condition. Items nicely bubble wrap. Items looks good and same as picture. Good for me. Recommended!!!',\n",
       " 'Very satisfied with product',\n",
       " 'Shipping was fast',\n",
       " 'Screen protector came with wipes as well as guides on how to paste it. Came with 2 sets so if this one ever cracks have a backup to paste. Relatively easy to do it on your own too. Fits nicely for switch lite.\\xa0',\n",
       " 'Tested the sound is clear from the headset part but i not sure how to operate the mic portion as i will my phone ear piece to test it and it cannot capture my voice than i use a mini mic to test for the second round but still it cannot capture my voice other than that it is working find. Thk seller.',\n",
       " 'Bought during shopee sale, was cheap and valid date is quite long, instant delivery and would recommend to others, thanks seller!',\n",
       " 'Great design',\n",
       " 'So after 4 days of using this awesome product (was using Kerastase previously) i can say that i LOVE IT!! Even my husband noted the difference in my hair texture and commented how smooth it felt. Not too oily on ur hands too! \\nThe shipping was super fast! Seller shipped it out the next day :)',\n",
       " 'Good Price',\n",
       " 'Nice looking',\n",
       " 'I love it😊',\n",
       " 'Great quality and fit',\n",
       " 'Fit prefectly',\n",
       " 'Very comfortable and light',\n",
       " 'Love it so much. Worth of buying. Right size. Thank u so much seller. Will buy again with the seller.',\n",
       " 'One of the more consumer-experience focused sellers in the marketplace . Made the effort to send a nice thank you card and also threw in a beautiful keychain meant for a female consumer. Great job seller ! Wishing more sellers are like you 💕',\n",
       " 'Love the colors',\n",
       " \"My 2nd purchase for this item. It's really good and value for money. Delivery time is also reasonable.\",\n",
       " 'So comfortable',\n",
       " 'Item received in good condition and delivery time is reasonable. Fits my watch nicely.',\n",
       " 'Great for the price',\n",
       " 'Just received it. Took a bit long to receive but okay. Cheap and worth it',\n",
       " '2nd time purchasing! Very worth the price. Delivery was quick too, about 1.5 weeks. Highly recommended 😊',\n",
       " 'Awesome ...',\n",
       " 'Loving the casing! Quite sturdy! :)\\xa0',\n",
       " 'I love it .',\n",
       " 'Excellent product .',\n",
       " 'Package delivered and item received as described. Have yet to try. Thanks!',\n",
       " 'Good so far',\n",
       " 'This is my 4th time ordering from the seller, I’m really satisfied w the product, prompt delivery time and fuss-free transaction. Will definitely continue to support and order from this seller! Highly recommended :)',\n",
       " 'Thank you seller 😍',\n",
       " 'Take 1 week to received the order, hope this products works on me',\n",
       " 'Well received in bubble wrapped and packed in box. Been using 1.5 and 1.75, testing out color 02.',\n",
       " 'Received in good condition. Very well packed.',\n",
       " 'Items received. Expiry date on Nov this year. Will try out soon',\n",
       " 'Sent wrong colour.',\n",
       " 'Cheap price',\n",
       " 'Different from the picture.',\n",
       " 'thanks.',\n",
       " 'Super comfortable',\n",
       " 'Loose fitting',\n",
       " 'All good .',\n",
       " 'Can be used',\n",
       " 'Received AIDEAL.sg Shoe Racks/Shoe Cabinets/Storage/Shoe shelf/rack in good condition. Item came fully installed and wrapped so that it will not be damaged during delivery.',\n",
       " 'Happy shopping',\n",
       " 'Excellent value',\n",
       " 'Will order again!',\n",
       " 'Good support',\n",
       " 'Good product .',\n",
       " 'Reasonable price! Good deal for carton bundle. Bought just in case need to print stuff . Thank u',\n",
       " 'Yayyy!! Used them for decoration!! And really fast, quality is pretty good too! Thnkyouu',\n",
       " \"Thumb up for the fantastic service! They've sent me the wrong mask and without any further delays, immediate action acted and gave me the wrong items as a gesture of goodwill. This is the service we needed as online consumer. \",\n",
       " 'Have yet to try the item but it looks good from the packaging. Came with a sticker too.\\xa0',\n",
       " 'Seller was very quick and received the goods quickly..quality wise the thread frails quite easily so depending on your usage of it',\n",
       " 'Amazing shoe',\n",
       " 'Received in good condition. Its quite sturdy. Pre-ordered item. Ordered on 24 May and received on 2 Jun. Thanks Seller!although the table abit high for my kid (height 100cm) , but i believe the quality can stay last until my kid grows higher😀',\n",
       " 'The product look as appeared on the selling page, nothing to complain.',\n",
       " 'Prompt delivery .',\n",
       " 'Very light weight',\n",
       " 'Item received well. Seller even gave a free gift inside the bag. Bag is small size but cute piece. Only the strap does not look able to carry heavy load. Good for a few handy items',\n",
       " \"I'm super happy with this purchase! exactly like how it looks in the picture, cane quite quick too. I did pay $1 for Express shipping but it's worth it :) hope my sisters likes it \"]"
      ]
     },
     "execution_count": 9,
     "metadata": {},
     "output_type": "execute_result"
    }
   ],
   "source": [
    "list_exact_match"
   ]
  },
  {
   "cell_type": "markdown",
   "execution_count": null,
   "metadata": {},
   "source": [
    "# String similarity\n",
    "\n",
    "> Unused due to the O(n^m) complexity\n",
    "\n",
    "Using jaro_distance, with output between 0 and 1.\n",
    "\n",
    "See https://jellyfish.readthedocs.io/en/latest/comparison.html#jaro-similarity"
   ]
  },
  {
   "cell_type": "markdown",
   "execution_count": null,
   "metadata": {},
   "source": [
    "## Example"
   ]
  },
  {
   "cell_type": "code",
   "execution_count": 10,
   "metadata": {},
   "outputs": [
    {
     "data": {
      "text/plain": [
       "0.6786340103544405"
      ]
     },
     "execution_count": 10,
     "metadata": {},
     "output_type": "execute_result"
    }
   ],
   "source": [
    "jellyfish.jaro_distance('great product fast delivery', 'Amazing product, quick delivery')"
   ]
  },
  {
   "cell_type": "code",
   "execution_count": 11,
   "metadata": {},
   "outputs": [
    {
     "data": {
      "text/plain": [
       "0.8181818181818182"
      ]
     },
     "execution_count": 11,
     "metadata": {},
     "output_type": "execute_result"
    }
   ],
   "source": [
    "jellyfish.jaro_distance('easy to use', 'hard to use')"
   ]
  },
  {
   "cell_type": "code",
   "execution_count": 12,
   "metadata": {},
   "outputs": [
    {
     "data": {
      "text/plain": [
       "0.9333333333333332"
      ]
     },
     "execution_count": 12,
     "metadata": {},
     "output_type": "execute_result"
    }
   ],
   "source": [
    "jellyfish.jaro_distance('good', 'goods')"
   ]
  },
  {
   "cell_type": "markdown",
   "execution_count": null,
   "metadata": {},
   "source": [
    "## Check"
   ]
  },
  {
   "cell_type": "code",
   "execution_count": 13,
   "metadata": {},
   "outputs": [],
   "source": [
    "# set_test = set()\n",
    "# for i in df_test.index:\n",
    "#     set_test.add(df_test.loc[i, 'review'])\n",
    "# len(set_test)"
   ]
  },
  {
   "cell_type": "code",
   "execution_count": 14,
   "metadata": {},
   "outputs": [],
   "source": [
    "# set_train_ext = set()\n",
    "# for i in df_train_ext.index:\n",
    "#     set_train_ext.add(df_train_ext.loc[i, 'text'])\n",
    "# len(set_train_ext)"
   ]
  },
  {
   "cell_type": "code",
   "execution_count": 15,
   "metadata": {},
   "outputs": [],
   "source": [
    "# df_similar_string = pd.DataFrame(columns=['test', 'train_ext', 'similarity_score'])"
   ]
  },
  {
   "cell_type": "code",
   "execution_count": 16,
   "metadata": {},
   "outputs": [],
   "source": [
    "# for r_train in set_train_ext:\n",
    "#     for r_test in set_test:\n",
    "#         similarity_score = jellyfish.jaro_distance(r_test, r_train)\n",
    "#         if similarity_score >= 0.9:\n",
    "#             df_similar_string.loc[df_similar_string.shape[0]] = [r_test, r_train, similarity_score]"
   ]
  },
  {
   "cell_type": "code",
   "execution_count": 17,
   "metadata": {},
   "outputs": [],
   "source": [
    "# pd.set_option('display.max_rows', None)\n",
    "# pd.set_option('display.max_columns', None)\n",
    "# pd.set_option('display.width', None)"
   ]
  },
  {
   "cell_type": "code",
   "execution_count": 18,
   "metadata": {},
   "outputs": [],
   "source": [
    "# df_similar_string"
   ]
  },
  {
   "cell_type": "code",
   "execution_count": 19,
   "metadata": {},
   "outputs": [],
   "source": [
    "# df_similar_string.to_csv('similarity.csv', index=None)"
   ]
  }
 ],
 "metadata": {
  "kernelspec": {
   "display_name": "Python 3",
   "language": "python",
   "name": "python3"
  },
  "language_info": {
   "codemirror_mode": {
    "name": "ipython",
    "version": 3
   },
   "file_extension": ".py",
   "mimetype": "text/x-python",
   "name": "python",
   "nbconvert_exporter": "python",
   "pygments_lexer": "ipython3",
   "version": "3.7.6"
  }
 },
 "nbformat": 4,
 "nbformat_minor": 4
}
